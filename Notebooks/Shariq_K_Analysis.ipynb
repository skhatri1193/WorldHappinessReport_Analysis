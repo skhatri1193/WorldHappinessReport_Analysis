{
 "cells": [
  {
   "cell_type": "code",
   "execution_count": 8,
   "metadata": {},
   "outputs": [],
   "source": [
    "import pandas as pd\n",
    "import numpy as np\n",
    "import matplotlib.pyplot as plt\n",
    "import matplotlib.ticker as MultipleLocator\n",
    "import seaborn as sns\n",
    "import requests\n",
    "import json\n",
    "import warnings\n",
    "import plotly.graph_objs as go\n",
    "from plotly.offline import iplot\n",
    "warnings.filterwarnings(\"ignore\")\n",
    "\n",
    "color=[\"#f94144\",\"#f3722c\",\"#f8961e\",\"#f9c74f\",\"#90be6d\",\"#43aa8b\",\"#577590\"]\n",
    "\n",
    "\n",
    "\n",
    "raw_df = pd.read_csv(r\"C:\\Users\\Shari\\Desktop\\Data Science Course\\Challenges\\team5_project1\\Data\\whr_original.csv\",encoding='iso-8859-1')"
   ]
  },
  {
   "cell_type": "code",
   "execution_count": 9,
   "metadata": {},
   "outputs": [
    {
     "name": "stdout",
     "output_type": "stream",
     "text": [
      "<class 'pandas.core.frame.DataFrame'>\n",
      "RangeIndex: 2363 entries, 0 to 2362\n",
      "Data columns (total 11 columns):\n",
      " #   Column                            Non-Null Count  Dtype  \n",
      "---  ------                            --------------  -----  \n",
      " 0   Country name                      2363 non-null   object \n",
      " 1   year                              2363 non-null   int64  \n",
      " 2   Life Ladder                       2363 non-null   float64\n",
      " 3   Log GDP per capita                2335 non-null   float64\n",
      " 4   Social support                    2350 non-null   float64\n",
      " 5   Healthy life expectancy at birth  2300 non-null   float64\n",
      " 6   Freedom to make life choices      2327 non-null   float64\n",
      " 7   Generosity                        2282 non-null   float64\n",
      " 8   Perceptions of corruption         2238 non-null   float64\n",
      " 9   Positive affect                   2339 non-null   float64\n",
      " 10  Negative affect                   2347 non-null   float64\n",
      "dtypes: float64(9), int64(1), object(1)\n",
      "memory usage: 203.2+ KB\n"
     ]
    },
    {
     "data": {
      "text/plain": [
       "Country name                          0\n",
       "year                                  0\n",
       "Life Ladder                           0\n",
       "Log GDP per capita                   28\n",
       "Social support                       13\n",
       "Healthy life expectancy at birth     63\n",
       "Freedom to make life choices         36\n",
       "Generosity                           81\n",
       "Perceptions of corruption           125\n",
       "Positive affect                      24\n",
       "Negative affect                      16\n",
       "dtype: int64"
      ]
     },
     "execution_count": 9,
     "metadata": {},
     "output_type": "execute_result"
    }
   ],
   "source": [
    "raw_df.info()\n",
    "raw_df.isnull().sum()"
   ]
  },
  {
   "cell_type": "code",
   "execution_count": 10,
   "metadata": {},
   "outputs": [],
   "source": [
    "raw_df.sort_values(by=\"year\",ascending=False)\n",
    "raw_df = raw_df.dropna()\n",
    "raw_df.isnull().sum()\n",
    "raw_df.to_csv(\"Data/whr24.droppednull.csv\",index=False)\n",
    "\n"
   ]
  },
  {
   "cell_type": "code",
   "execution_count": 11,
   "metadata": {},
   "outputs": [
    {
     "data": {
      "text/plain": [
       "Country name                        0\n",
       "year                                0\n",
       "Life Ladder                         0\n",
       "Log GDP per capita                  0\n",
       "Social support                      0\n",
       "Healthy life expectancy at birth    0\n",
       "Freedom to make life choices        0\n",
       "Generosity                          0\n",
       "Perceptions of corruption           0\n",
       "Positive affect                     0\n",
       "Negative affect                     0\n",
       "dtype: int64"
      ]
     },
     "execution_count": 11,
     "metadata": {},
     "output_type": "execute_result"
    }
   ],
   "source": [
    "filled_data = raw_df.copy()\n",
    "\n",
    "# Loop over each column with missing values and fill them\n",
    "columns_to_fill = filled_data.columns[2:]  # Exclude 'Country name' and 'year' columns\n",
    "\n",
    "for column in columns_to_fill:\n",
    "    filled_data[column] = filled_data.groupby('Country name')[column].transform(lambda x : x.fillna(method=\"bfill\"))\n",
    "    filled_data[column] = filled_data.groupby('Country name')[column].transform(lambda x : x.fillna(method=\"ffill\"))\n",
    "\n",
    "# Verify if the missing values have been filled\n",
    "missing_values_after = filled_data.isnull().sum()\n",
    "missing_values_after\n",
    "\n",
    "\n"
   ]
  },
  {
   "cell_type": "code",
   "execution_count": 12,
   "metadata": {},
   "outputs": [
    {
     "data": {
      "text/html": [
       "<div>\n",
       "<style scoped>\n",
       "    .dataframe tbody tr th:only-of-type {\n",
       "        vertical-align: middle;\n",
       "    }\n",
       "\n",
       "    .dataframe tbody tr th {\n",
       "        vertical-align: top;\n",
       "    }\n",
       "\n",
       "    .dataframe thead th {\n",
       "        text-align: right;\n",
       "    }\n",
       "</style>\n",
       "<table border=\"1\" class=\"dataframe\">\n",
       "  <thead>\n",
       "    <tr style=\"text-align: right;\">\n",
       "      <th></th>\n",
       "      <th>country_name</th>\n",
       "      <th>year</th>\n",
       "      <th>life_ladder</th>\n",
       "      <th>log_gdp_per_capita</th>\n",
       "      <th>social_support</th>\n",
       "      <th>healthy_life_expectancy_at_birth</th>\n",
       "      <th>freedom_to_make_life_choices</th>\n",
       "      <th>generosity</th>\n",
       "      <th>perceptions_of_corruption</th>\n",
       "      <th>positive_affect</th>\n",
       "      <th>negative_affect</th>\n",
       "    </tr>\n",
       "  </thead>\n",
       "  <tbody>\n",
       "    <tr>\n",
       "      <th>0</th>\n",
       "      <td>Afghanistan</td>\n",
       "      <td>2008</td>\n",
       "      <td>3.724</td>\n",
       "      <td>7.350</td>\n",
       "      <td>0.451</td>\n",
       "      <td>50.5</td>\n",
       "      <td>0.718</td>\n",
       "      <td>0.164</td>\n",
       "      <td>0.882</td>\n",
       "      <td>0.414</td>\n",
       "      <td>0.258</td>\n",
       "    </tr>\n",
       "    <tr>\n",
       "      <th>1</th>\n",
       "      <td>Afghanistan</td>\n",
       "      <td>2009</td>\n",
       "      <td>4.402</td>\n",
       "      <td>7.509</td>\n",
       "      <td>0.552</td>\n",
       "      <td>50.8</td>\n",
       "      <td>0.679</td>\n",
       "      <td>0.187</td>\n",
       "      <td>0.850</td>\n",
       "      <td>0.481</td>\n",
       "      <td>0.237</td>\n",
       "    </tr>\n",
       "    <tr>\n",
       "      <th>2</th>\n",
       "      <td>Afghanistan</td>\n",
       "      <td>2010</td>\n",
       "      <td>4.758</td>\n",
       "      <td>7.614</td>\n",
       "      <td>0.539</td>\n",
       "      <td>51.1</td>\n",
       "      <td>0.600</td>\n",
       "      <td>0.118</td>\n",
       "      <td>0.707</td>\n",
       "      <td>0.517</td>\n",
       "      <td>0.275</td>\n",
       "    </tr>\n",
       "    <tr>\n",
       "      <th>3</th>\n",
       "      <td>Afghanistan</td>\n",
       "      <td>2011</td>\n",
       "      <td>3.832</td>\n",
       "      <td>7.581</td>\n",
       "      <td>0.521</td>\n",
       "      <td>51.4</td>\n",
       "      <td>0.496</td>\n",
       "      <td>0.160</td>\n",
       "      <td>0.731</td>\n",
       "      <td>0.480</td>\n",
       "      <td>0.267</td>\n",
       "    </tr>\n",
       "    <tr>\n",
       "      <th>4</th>\n",
       "      <td>Afghanistan</td>\n",
       "      <td>2012</td>\n",
       "      <td>3.783</td>\n",
       "      <td>7.661</td>\n",
       "      <td>0.521</td>\n",
       "      <td>51.7</td>\n",
       "      <td>0.531</td>\n",
       "      <td>0.234</td>\n",
       "      <td>0.776</td>\n",
       "      <td>0.614</td>\n",
       "      <td>0.268</td>\n",
       "    </tr>\n",
       "  </tbody>\n",
       "</table>\n",
       "</div>"
      ],
      "text/plain": [
       "  country_name  year  life_ladder  log_gdp_per_capita  social_support  \\\n",
       "0  Afghanistan  2008        3.724               7.350           0.451   \n",
       "1  Afghanistan  2009        4.402               7.509           0.552   \n",
       "2  Afghanistan  2010        4.758               7.614           0.539   \n",
       "3  Afghanistan  2011        3.832               7.581           0.521   \n",
       "4  Afghanistan  2012        3.783               7.661           0.521   \n",
       "\n",
       "   healthy_life_expectancy_at_birth  freedom_to_make_life_choices  generosity  \\\n",
       "0                              50.5                         0.718       0.164   \n",
       "1                              50.8                         0.679       0.187   \n",
       "2                              51.1                         0.600       0.118   \n",
       "3                              51.4                         0.496       0.160   \n",
       "4                              51.7                         0.531       0.234   \n",
       "\n",
       "   perceptions_of_corruption  positive_affect  negative_affect  \n",
       "0                      0.882            0.414            0.258  \n",
       "1                      0.850            0.481            0.237  \n",
       "2                      0.707            0.517            0.275  \n",
       "3                      0.731            0.480            0.267  \n",
       "4                      0.776            0.614            0.268  "
      ]
     },
     "execution_count": 12,
     "metadata": {},
     "output_type": "execute_result"
    }
   ],
   "source": [
    "filled_data.columns = filled_data.columns.str.replace(\" \",\"_\").str.lower()\n",
    "whr_df = filled_data.copy()\n",
    "whr_df.to_csv(\"data/whr24.csv\",index=False)\n",
    "whr_df.head()\n",
    "\n"
   ]
  },
  {
   "cell_type": "code",
   "execution_count": 13,
   "metadata": {},
   "outputs": [
    {
     "data": {
      "text/html": [
       "<div>\n",
       "<style scoped>\n",
       "    .dataframe tbody tr th:only-of-type {\n",
       "        vertical-align: middle;\n",
       "    }\n",
       "\n",
       "    .dataframe tbody tr th {\n",
       "        vertical-align: top;\n",
       "    }\n",
       "\n",
       "    .dataframe thead th {\n",
       "        text-align: right;\n",
       "    }\n",
       "</style>\n",
       "<table border=\"1\" class=\"dataframe\">\n",
       "  <thead>\n",
       "    <tr style=\"text-align: right;\">\n",
       "      <th></th>\n",
       "      <th>year</th>\n",
       "      <th>life_ladder</th>\n",
       "    </tr>\n",
       "  </thead>\n",
       "  <tbody>\n",
       "    <tr>\n",
       "      <th>0</th>\n",
       "      <td>2007</td>\n",
       "      <td>5.396593</td>\n",
       "    </tr>\n",
       "    <tr>\n",
       "      <th>1</th>\n",
       "      <td>2008</td>\n",
       "      <td>5.454670</td>\n",
       "    </tr>\n",
       "    <tr>\n",
       "      <th>2</th>\n",
       "      <td>2009</td>\n",
       "      <td>5.464657</td>\n",
       "    </tr>\n",
       "    <tr>\n",
       "      <th>3</th>\n",
       "      <td>2010</td>\n",
       "      <td>5.516414</td>\n",
       "    </tr>\n",
       "    <tr>\n",
       "      <th>4</th>\n",
       "      <td>2011</td>\n",
       "      <td>5.374439</td>\n",
       "    </tr>\n",
       "    <tr>\n",
       "      <th>5</th>\n",
       "      <td>2012</td>\n",
       "      <td>5.411504</td>\n",
       "    </tr>\n",
       "    <tr>\n",
       "      <th>6</th>\n",
       "      <td>2013</td>\n",
       "      <td>5.346629</td>\n",
       "    </tr>\n",
       "    <tr>\n",
       "      <th>7</th>\n",
       "      <td>2014</td>\n",
       "      <td>5.369705</td>\n",
       "    </tr>\n",
       "    <tr>\n",
       "      <th>8</th>\n",
       "      <td>2015</td>\n",
       "      <td>5.375070</td>\n",
       "    </tr>\n",
       "    <tr>\n",
       "      <th>9</th>\n",
       "      <td>2016</td>\n",
       "      <td>5.383480</td>\n",
       "    </tr>\n",
       "    <tr>\n",
       "      <th>10</th>\n",
       "      <td>2017</td>\n",
       "      <td>5.486492</td>\n",
       "    </tr>\n",
       "    <tr>\n",
       "      <th>11</th>\n",
       "      <td>2018</td>\n",
       "      <td>5.509512</td>\n",
       "    </tr>\n",
       "    <tr>\n",
       "      <th>12</th>\n",
       "      <td>2019</td>\n",
       "      <td>5.540093</td>\n",
       "    </tr>\n",
       "    <tr>\n",
       "      <th>13</th>\n",
       "      <td>2020</td>\n",
       "      <td>5.738829</td>\n",
       "    </tr>\n",
       "    <tr>\n",
       "      <th>14</th>\n",
       "      <td>2021</td>\n",
       "      <td>5.613763</td>\n",
       "    </tr>\n",
       "    <tr>\n",
       "      <th>15</th>\n",
       "      <td>2022</td>\n",
       "      <td>5.516984</td>\n",
       "    </tr>\n",
       "    <tr>\n",
       "      <th>16</th>\n",
       "      <td>2023</td>\n",
       "      <td>5.623133</td>\n",
       "    </tr>\n",
       "  </tbody>\n",
       "</table>\n",
       "</div>"
      ],
      "text/plain": [
       "    year  life_ladder\n",
       "0   2007     5.396593\n",
       "1   2008     5.454670\n",
       "2   2009     5.464657\n",
       "3   2010     5.516414\n",
       "4   2011     5.374439\n",
       "5   2012     5.411504\n",
       "6   2013     5.346629\n",
       "7   2014     5.369705\n",
       "8   2015     5.375070\n",
       "9   2016     5.383480\n",
       "10  2017     5.486492\n",
       "11  2018     5.509512\n",
       "12  2019     5.540093\n",
       "13  2020     5.738829\n",
       "14  2021     5.613763\n",
       "15  2022     5.516984\n",
       "16  2023     5.623133"
      ]
     },
     "execution_count": 13,
     "metadata": {},
     "output_type": "execute_result"
    }
   ],
   "source": [
    " \n",
    "whr_from2006 = whr_df[whr_df[\"year\"] > 2006]\n",
    "avg_happiness = whr_from2006.groupby(\"year\")[\"life_ladder\"].mean().reset_index()\n",
    "avg_happiness\n",
    "\n"
   ]
  },
  {
   "cell_type": "markdown",
   "metadata": {},
   "source": [
    "The last major global recession occurred during the financial crisis of 2007-2008. Here are some key points about this recession:\n",
    "Timeline and Causes\n",
    "\n",
    "    Timeline:\n",
    "        Start: The recession is often considered to have started in late 2007, with the most significant impacts felt in 2008.\n",
    "        Duration: The recession lasted until around 2009, although recovery varied by country.\n",
    "\n",
    "    Causes:\n",
    "        Subprime Mortgage Crisis: The crisis began in the United States with the collapse of the housing market, triggered by a high default rate on \"subprime\" mortgages.\n",
    "        Financial Institutions: Major financial institutions faced severe liquidity issues, leading to the collapse or bailout of many banks.\n",
    "        Credit Crunch: The collapse of Lehman Brothers in September 2008 exacerbated the crisis, leading to a global credit crunch.\n",
    "        Complex Financial Products: The use of complex financial products like mortgage-backed securities (MBS) and credit default swaps (CDS) contributed to the spread of risk throughout the global financial system.\n",
    "\n",
    "Impact\n",
    "\n",
    "    Global GDP: The global economy contracted, and GDP growth slowed significantly in many countries.\n",
    "    Unemployment: Unemployment rates soared worldwide, with many industries, particularly finance, construction, and manufacturing, severely affected.\n",
    "    Stock Markets: Stock markets around the world experienced significant declines, wiping out trillions of dollars in wealth.\n",
    "    Government Interventions: Governments and central banks implemented massive stimulus packages and monetary policy interventions to stabilize economies.\n",
    "\n",
    "Recovery\n",
    "\n",
    "    Recovery Efforts: Recovery began in 2009-2010, aided by fiscal stimulus and monetary easing. However, the pace of recovery varied, with some countries taking longer to return to pre-recession levels.\n",
    "    Regulatory Reforms: The crisis led to significant regulatory changes in the financial sector, including the Dodd-Frank Act in the United States, aimed at preventing future crises of a similar nature.\n",
    "\n",
    "The 2007-2008 financial crisis was one of the most severe economic downturns since the Great Depression, with long-lasting impacts on the global economy.\n"
   ]
  },
  {
   "cell_type": "code",
   "execution_count": 26,
   "metadata": {},
   "outputs": [
    {
     "data": {
      "image/png": "[encoded data removed]",
      "text/plain": [
       "<Figure size 640x480 with 1 Axes>"
      ]
     },
     "metadata": {},
     "output_type": "display_data"
    }
   ],
   "source": [
    "plt.plot(avg_happiness[\"year\"],avg_happiness[\"life_ladder\"],marker='H',linestyle='--',color=\"g\")\n",
    "xlabels=np.arange(2006,2023,2)\n",
    "plt.xticks(xlabels)\n",
    "plt.xlabel(\"Years\")\n",
    "plt.ylabel(\"Mean Happiness Ladder Score\")\n",
    "plt.title(\"Average Global Happiness Trend (2007 - 2023)\")\n",
    "plt.savefig(\"avg_global_trend.png\")\n",
    "plt.show()\n"
   ]
  },
  {
   "cell_type": "code",
   "execution_count": 15,
   "metadata": {},
   "outputs": [
    {
     "data": {
      "text/plain": [
       "5.623133333333333"
      ]
     },
     "execution_count": 15,
     "metadata": {},
     "output_type": "execute_result"
    }
   ],
   "source": [
    "whr_df = whr_df.sort_values(by=[\"life_ladder\"],ascending=False)\n",
    "whr_23 = whr_df[whr_df[\"year\"] == 2023]\n",
    "whr_23.to_csv(\"data/whr23_filtered.csv\")\n",
    "whr_avg_23 = whr_23[\"life_ladder\"].mean()\n",
    "\n",
    "top_5_countries = whr_23[\"country_name\"].head()\n",
    "top_5_scores = whr_23[\"life_ladder\"].head()\n",
    "bot_5_countries = whr_23[\"country_name\"].tail()\n",
    "bot_5_scores = whr_23[\"life_ladder\"].tail()\n",
    "whr_avg_23\n"
   ]
  },
  {
   "cell_type": "code",
   "execution_count": 16,
   "metadata": {},
   "outputs": [
    {
     "data": {
      "image/png": "[encoded data removed]",
      "text/plain": [
       "<Figure size 1200x700 with 2 Axes>"
      ]
     },
     "metadata": {},
     "output_type": "display_data"
    }
   ],
   "source": [
    "fig,axs = plt.subplots(2,1,layout=\"constrained\",sharex=True,figsize=(12,7))\n",
    "\n",
    "axs[0].barh(top_5_countries,top_5_scores,height=0.8,edgecolor=\"black\",color=color[4])\n",
    "axs[0].axvline(x=whr_avg_23,color=\"gray\",linestyle=\"--\",linewidth=1)\n",
    "axs[0].set_ylabel(\"Top 5 Countries in Happiness Index \")\n",
    "axs[1].barh(bot_5_countries,bot_5_scores,height=0.8,edgecolor=\"black\",color=color[0])\n",
    "axs[1].axvline(x=whr_avg_23,color=\"gray\",linestyle=\"--\",linewidth=1)\n",
    "axs[1].text(whr_avg_23 + 0.1, 0.9 * axs[1].get_ylim()[1], f'Mean Ladder Score: {whr_avg_23:.2f}', color='gray',\n",
    "            verticalalignment='top', horizontalalignment='center', rotation=90)\n",
    "axs[1].set_ylabel(\"Bottom 5 Countries in Happiness Index \")\n",
    "\n",
    "for ax in axs:\n",
    "    ax.spines['top'].set_visible(False)\n",
    "    ax.spines['right'].set_visible(False)\n",
    "    ax.spines['left'].set_visible(False)\n",
    "    ax.spines['bottom'].set_visible(False)\n",
    "axs[0].tick_params(axis='x', which='both', bottom=False, top=False, labelbottom=False)\n",
    "\n",
    "plt.xlabel(\"Ladder Score\")\n",
    "plt.suptitle(\"Top 5 and Bottom 5 Countries in Happiness Index 2023\")\n",
    "plt.tight_layout()\n",
    "plt.savefig(\"top5bot5.png\")\n",
    "plt.show()\n",
    "    \n",
    "\n",
    "\n",
    "\n"
   ]
  },
  {
   "cell_type": "code",
   "execution_count": 17,
   "metadata": {},
   "outputs": [
    {
     "data": {
      "text/html": [
       "<div>\n",
       "<style scoped>\n",
       "    .dataframe tbody tr th:only-of-type {\n",
       "        vertical-align: middle;\n",
       "    }\n",
       "\n",
       "    .dataframe tbody tr th {\n",
       "        vertical-align: top;\n",
       "    }\n",
       "\n",
       "    .dataframe thead th {\n",
       "        text-align: right;\n",
       "    }\n",
       "</style>\n",
       "<table border=\"1\" class=\"dataframe\">\n",
       "  <thead>\n",
       "    <tr style=\"text-align: right;\">\n",
       "      <th></th>\n",
       "      <th>freedom_to_make_life_choices</th>\n",
       "      <th>country_name</th>\n",
       "      <th>year</th>\n",
       "      <th>life_ladder</th>\n",
       "      <th>log_gdp_per_capita</th>\n",
       "      <th>social_support</th>\n",
       "      <th>healthy_life_expectancy_at_birth</th>\n",
       "      <th>generosity</th>\n",
       "      <th>perceptions_of_corruption</th>\n",
       "    </tr>\n",
       "  </thead>\n",
       "  <tbody>\n",
       "    <tr>\n",
       "      <th>1293</th>\n",
       "      <td>0.965</td>\n",
       "      <td>Malaysia</td>\n",
       "      <td>2023</td>\n",
       "      <td>5.868</td>\n",
       "      <td>10.283</td>\n",
       "      <td>0.779</td>\n",
       "      <td>65.6</td>\n",
       "      <td>0.154</td>\n",
       "      <td>0.754</td>\n",
       "    </tr>\n",
       "    <tr>\n",
       "      <th>330</th>\n",
       "      <td>0.961</td>\n",
       "      <td>Cambodia</td>\n",
       "      <td>2023</td>\n",
       "      <td>4.221</td>\n",
       "      <td>8.462</td>\n",
       "      <td>0.738</td>\n",
       "      <td>62.3</td>\n",
       "      <td>0.070</td>\n",
       "      <td>0.799</td>\n",
       "    </tr>\n",
       "    <tr>\n",
       "      <th>2313</th>\n",
       "      <td>0.956</td>\n",
       "      <td>Vietnam</td>\n",
       "      <td>2023</td>\n",
       "      <td>6.325</td>\n",
       "      <td>9.392</td>\n",
       "      <td>0.845</td>\n",
       "      <td>65.7</td>\n",
       "      <td>-0.159</td>\n",
       "      <td>0.655</td>\n",
       "    </tr>\n",
       "    <tr>\n",
       "      <th>680</th>\n",
       "      <td>0.943</td>\n",
       "      <td>Finland</td>\n",
       "      <td>2023</td>\n",
       "      <td>7.699</td>\n",
       "      <td>10.808</td>\n",
       "      <td>0.947</td>\n",
       "      <td>71.3</td>\n",
       "      <td>-0.001</td>\n",
       "      <td>0.185</td>\n",
       "    </tr>\n",
       "    <tr>\n",
       "      <th>1147</th>\n",
       "      <td>0.943</td>\n",
       "      <td>Kyrgyzstan</td>\n",
       "      <td>2023</td>\n",
       "      <td>5.910</td>\n",
       "      <td>8.573</td>\n",
       "      <td>0.946</td>\n",
       "      <td>67.9</td>\n",
       "      <td>0.145</td>\n",
       "      <td>0.899</td>\n",
       "    </tr>\n",
       "    <tr>\n",
       "      <th>632</th>\n",
       "      <td>0.942</td>\n",
       "      <td>El Salvador</td>\n",
       "      <td>2023</td>\n",
       "      <td>6.482</td>\n",
       "      <td>9.167</td>\n",
       "      <td>0.744</td>\n",
       "      <td>66.3</td>\n",
       "      <td>-0.104</td>\n",
       "      <td>0.496</td>\n",
       "    </tr>\n",
       "    <tr>\n",
       "      <th>1594</th>\n",
       "      <td>0.938</td>\n",
       "      <td>Norway</td>\n",
       "      <td>2023</td>\n",
       "      <td>7.249</td>\n",
       "      <td>11.125</td>\n",
       "      <td>0.952</td>\n",
       "      <td>71.6</td>\n",
       "      <td>0.219</td>\n",
       "      <td>0.245</td>\n",
       "    </tr>\n",
       "    <tr>\n",
       "      <th>490</th>\n",
       "      <td>0.933</td>\n",
       "      <td>Costa Rica</td>\n",
       "      <td>2023</td>\n",
       "      <td>7.384</td>\n",
       "      <td>10.021</td>\n",
       "      <td>0.875</td>\n",
       "      <td>70.0</td>\n",
       "      <td>-0.067</td>\n",
       "      <td>0.767</td>\n",
       "    </tr>\n",
       "    <tr>\n",
       "      <th>1683</th>\n",
       "      <td>0.932</td>\n",
       "      <td>Philippines</td>\n",
       "      <td>2023</td>\n",
       "      <td>6.184</td>\n",
       "      <td>9.102</td>\n",
       "      <td>0.796</td>\n",
       "      <td>62.1</td>\n",
       "      <td>-0.038</td>\n",
       "      <td>0.768</td>\n",
       "    </tr>\n",
       "    <tr>\n",
       "      <th>1882</th>\n",
       "      <td>0.931</td>\n",
       "      <td>Slovenia</td>\n",
       "      <td>2023</td>\n",
       "      <td>6.746</td>\n",
       "      <td>10.664</td>\n",
       "      <td>0.911</td>\n",
       "      <td>71.4</td>\n",
       "      <td>0.031</td>\n",
       "      <td>0.750</td>\n",
       "    </tr>\n",
       "  </tbody>\n",
       "</table>\n",
       "</div>"
      ],
      "text/plain": [
       "      freedom_to_make_life_choices country_name  year  life_ladder  \\\n",
       "1293                         0.965     Malaysia  2023        5.868   \n",
       "330                          0.961     Cambodia  2023        4.221   \n",
       "2313                         0.956      Vietnam  2023        6.325   \n",
       "680                          0.943      Finland  2023        7.699   \n",
       "1147                         0.943   Kyrgyzstan  2023        5.910   \n",
       "632                          0.942  El Salvador  2023        6.482   \n",
       "1594                         0.938       Norway  2023        7.249   \n",
       "490                          0.933   Costa Rica  2023        7.384   \n",
       "1683                         0.932  Philippines  2023        6.184   \n",
       "1882                         0.931     Slovenia  2023        6.746   \n",
       "\n",
       "      log_gdp_per_capita  social_support  healthy_life_expectancy_at_birth  \\\n",
       "1293              10.283           0.779                              65.6   \n",
       "330                8.462           0.738                              62.3   \n",
       "2313               9.392           0.845                              65.7   \n",
       "680               10.808           0.947                              71.3   \n",
       "1147               8.573           0.946                              67.9   \n",
       "632                9.167           0.744                              66.3   \n",
       "1594              11.125           0.952                              71.6   \n",
       "490               10.021           0.875                              70.0   \n",
       "1683               9.102           0.796                              62.1   \n",
       "1882              10.664           0.911                              71.4   \n",
       "\n",
       "      generosity  perceptions_of_corruption  \n",
       "1293       0.154                      0.754  \n",
       "330        0.070                      0.799  \n",
       "2313      -0.159                      0.655  \n",
       "680       -0.001                      0.185  \n",
       "1147       0.145                      0.899  \n",
       "632       -0.104                      0.496  \n",
       "1594       0.219                      0.245  \n",
       "490       -0.067                      0.767  \n",
       "1683      -0.038                      0.768  \n",
       "1882       0.031                      0.750  "
      ]
     },
     "execution_count": 17,
     "metadata": {},
     "output_type": "execute_result"
    }
   ],
   "source": [
    "whr_23_open = whr_23.iloc[:,[6,0,1,2,3,4,5,7,8]].sort_values(\"freedom_to_make_life_choices\",ascending=False)\n",
    "top_open = whr_23_open.head(10)\n",
    "bot_open = whr_23_open.tail(10)\n",
    "\n",
    "top_open"
   ]
  },
  {
   "cell_type": "code",
   "execution_count": 18,
   "metadata": {},
   "outputs": [
    {
     "data": {
      "text/html": [
       "<style type=\"text/css\">\n",
       "#T_70f99_row0_col0, #T_70f99_row3_col3, #T_70f99_row4_col8, #T_70f99_row6_col4, #T_70f99_row6_col5, #T_70f99_row6_col6 {\n",
       "  width: 10em;\n",
       "  background: linear-gradient(90deg, #800000 100.0%, transparent 100.0%);\n",
       "  color: black;\n",
       "}\n",
       "#T_70f99_row0_col1, #T_70f99_row0_col2, #T_70f99_row1_col1, #T_70f99_row1_col2, #T_70f99_row2_col1, #T_70f99_row2_col2, #T_70f99_row3_col1, #T_70f99_row3_col2, #T_70f99_row4_col1, #T_70f99_row4_col2, #T_70f99_row5_col1, #T_70f99_row5_col2, #T_70f99_row6_col1, #T_70f99_row6_col2, #T_70f99_row7_col1, #T_70f99_row7_col2, #T_70f99_row8_col1, #T_70f99_row8_col2, #T_70f99_row9_col1, #T_70f99_row9_col2 {\n",
       "  color: black;\n",
       "}\n",
       "#T_70f99_row0_col3 {\n",
       "  width: 10em;\n",
       "  background: linear-gradient(90deg, #f80000 76.2%, transparent 76.2%);\n",
       "  color: black;\n",
       "}\n",
       "#T_70f99_row0_col4 {\n",
       "  width: 10em;\n",
       "  background: linear-gradient(90deg, #a60000 92.4%, transparent 92.4%);\n",
       "  color: black;\n",
       "}\n",
       "#T_70f99_row0_col5, #T_70f99_row8_col4 {\n",
       "  width: 10em;\n",
       "  background: linear-gradient(90deg, #dc0000 81.8%, transparent 81.8%);\n",
       "  color: black;\n",
       "}\n",
       "#T_70f99_row0_col6 {\n",
       "  width: 10em;\n",
       "  background: linear-gradient(90deg, #aa0000 91.6%, transparent 91.6%);\n",
       "  color: black;\n",
       "}\n",
       "#T_70f99_row0_col7 {\n",
       "  width: 10em;\n",
       "  background: linear-gradient(90deg, transparent 42.1%, #d80000 42.1%, #d80000 82.8%, transparent 82.8%);\n",
       "  color: black;\n",
       "}\n",
       "#T_70f99_row0_col8 {\n",
       "  width: 10em;\n",
       "  background: linear-gradient(90deg, #d20000 83.9%, transparent 83.9%);\n",
       "  color: black;\n",
       "}\n",
       "#T_70f99_row1_col0, #T_70f99_row3_col6 {\n",
       "  width: 10em;\n",
       "  background: linear-gradient(90deg, #820000 99.6%, transparent 99.6%);\n",
       "  color: black;\n",
       "}\n",
       "#T_70f99_row1_col3 {\n",
       "  width: 10em;\n",
       "  background: linear-gradient(90deg, #ffcdcd 54.8%, transparent 54.8%);\n",
       "  color: black;\n",
       "}\n",
       "#T_70f99_row1_col4 {\n",
       "  width: 10em;\n",
       "  background: linear-gradient(90deg, #fa0000 76.1%, transparent 76.1%);\n",
       "  color: black;\n",
       "}\n",
       "#T_70f99_row1_col5 {\n",
       "  width: 10em;\n",
       "  background: linear-gradient(90deg, #f20000 77.5%, transparent 77.5%);\n",
       "  color: black;\n",
       "}\n",
       "#T_70f99_row1_col6 {\n",
       "  width: 10em;\n",
       "  background: linear-gradient(90deg, #c20000 87.0%, transparent 87.0%);\n",
       "  color: black;\n",
       "}\n",
       "#T_70f99_row1_col7 {\n",
       "  width: 10em;\n",
       "  background: linear-gradient(90deg, transparent 42.1%, #ff9191 42.1%, #ff9191 60.6%, transparent 60.6%);\n",
       "  color: black;\n",
       "}\n",
       "#T_70f99_row1_col8 {\n",
       "  width: 10em;\n",
       "  background: linear-gradient(90deg, #b80000 88.9%, transparent 88.9%);\n",
       "  color: black;\n",
       "}\n",
       "#T_70f99_row2_col0 {\n",
       "  width: 10em;\n",
       "  background: linear-gradient(90deg, #840000 99.1%, transparent 99.1%);\n",
       "  color: black;\n",
       "}\n",
       "#T_70f99_row2_col3 {\n",
       "  width: 10em;\n",
       "  background: linear-gradient(90deg, #da0000 82.2%, transparent 82.2%);\n",
       "  color: black;\n",
       "}\n",
       "#T_70f99_row2_col4 {\n",
       "  width: 10em;\n",
       "  background: linear-gradient(90deg, #ce0000 84.4%, transparent 84.4%);\n",
       "  color: black;\n",
       "}\n",
       "#T_70f99_row2_col5 {\n",
       "  width: 10em;\n",
       "  background: linear-gradient(90deg, #b80000 88.8%, transparent 88.8%);\n",
       "  color: black;\n",
       "}\n",
       "#T_70f99_row2_col6 {\n",
       "  width: 10em;\n",
       "  background: linear-gradient(90deg, #aa0000 91.8%, transparent 91.8%);\n",
       "  color: black;\n",
       "}\n",
       "#T_70f99_row2_col7 {\n",
       "  width: 10em;\n",
       "  background: linear-gradient(90deg, #00004c 42.1%, transparent 42.1%);\n",
       "  color: black;\n",
       "}\n",
       "#T_70f99_row2_col8 {\n",
       "  width: 10em;\n",
       "  background: linear-gradient(90deg, #ff1515 72.9%, transparent 72.9%);\n",
       "  color: black;\n",
       "}\n",
       "#T_70f99_row3_col0, #T_70f99_row4_col0 {\n",
       "  width: 10em;\n",
       "  background: linear-gradient(90deg, #8a0000 97.7%, transparent 97.7%);\n",
       "  color: black;\n",
       "}\n",
       "#T_70f99_row3_col4, #T_70f99_row6_col0 {\n",
       "  width: 10em;\n",
       "  background: linear-gradient(90deg, #8e0000 97.2%, transparent 97.2%);\n",
       "  color: black;\n",
       "}\n",
       "#T_70f99_row3_col5 {\n",
       "  width: 10em;\n",
       "  background: linear-gradient(90deg, #820000 99.5%, transparent 99.5%);\n",
       "  color: black;\n",
       "}\n",
       "#T_70f99_row3_col7 {\n",
       "  width: 10em;\n",
       "  background: linear-gradient(90deg, transparent 41.8%, #adadff 41.8%, #adadff 42.1%, transparent 42.1%);\n",
       "  color: black;\n",
       "}\n",
       "#T_70f99_row3_col8 {\n",
       "  width: 10em;\n",
       "  background: linear-gradient(90deg, #0000de 20.6%, transparent 20.6%);\n",
       "  color: black;\n",
       "}\n",
       "#T_70f99_row4_col3 {\n",
       "  width: 10em;\n",
       "  background: linear-gradient(90deg, #f60000 76.8%, transparent 76.8%);\n",
       "  color: black;\n",
       "}\n",
       "#T_70f99_row4_col4 {\n",
       "  width: 10em;\n",
       "  background: linear-gradient(90deg, #f40000 77.1%, transparent 77.1%);\n",
       "  color: black;\n",
       "}\n",
       "#T_70f99_row4_col5 {\n",
       "  width: 10em;\n",
       "  background: linear-gradient(90deg, #820000 99.4%, transparent 99.4%);\n",
       "  color: black;\n",
       "}\n",
       "#T_70f99_row4_col6 {\n",
       "  width: 10em;\n",
       "  background: linear-gradient(90deg, #9a0000 94.8%, transparent 94.8%);\n",
       "  color: black;\n",
       "}\n",
       "#T_70f99_row4_col7 {\n",
       "  width: 10em;\n",
       "  background: linear-gradient(90deg, transparent 42.1%, #e30000 42.1%, #e30000 80.4%, transparent 80.4%);\n",
       "  color: black;\n",
       "}\n",
       "#T_70f99_row5_col0 {\n",
       "  width: 10em;\n",
       "  background: linear-gradient(90deg, #8c0000 97.6%, transparent 97.6%);\n",
       "  color: black;\n",
       "}\n",
       "#T_70f99_row5_col3 {\n",
       "  width: 10em;\n",
       "  background: linear-gradient(90deg, #d00000 84.2%, transparent 84.2%);\n",
       "  color: black;\n",
       "}\n",
       "#T_70f99_row5_col4 {\n",
       "  width: 10em;\n",
       "  background: linear-gradient(90deg, #da0000 82.4%, transparent 82.4%);\n",
       "  color: black;\n",
       "}\n",
       "#T_70f99_row5_col5 {\n",
       "  width: 10em;\n",
       "  background: linear-gradient(90deg, #ee0000 78.2%, transparent 78.2%);\n",
       "  color: black;\n",
       "}\n",
       "#T_70f99_row5_col6 {\n",
       "  width: 10em;\n",
       "  background: linear-gradient(90deg, #a30000 92.6%, transparent 92.6%);\n",
       "  color: black;\n",
       "}\n",
       "#T_70f99_row5_col7 {\n",
       "  width: 10em;\n",
       "  background: linear-gradient(90deg, transparent 14.6%, #0000b4 14.6%, #0000b4 42.1%, transparent 42.1%);\n",
       "  color: black;\n",
       "}\n",
       "#T_70f99_row5_col8 {\n",
       "  width: 10em;\n",
       "  background: linear-gradient(90deg, #ffc9c9 55.2%, transparent 55.2%);\n",
       "  color: black;\n",
       "}\n",
       "#T_70f99_row6_col3 {\n",
       "  width: 10em;\n",
       "  background: linear-gradient(90deg, #9c0000 94.2%, transparent 94.2%);\n",
       "  color: black;\n",
       "}\n",
       "#T_70f99_row6_col7 {\n",
       "  width: 10em;\n",
       "  background: linear-gradient(90deg, transparent 42.1%, #800000 42.1%, #800000 100.0%, transparent 100.0%);\n",
       "  color: black;\n",
       "}\n",
       "#T_70f99_row6_col8 {\n",
       "  width: 10em;\n",
       "  background: linear-gradient(90deg, #1515ff 27.3%, transparent 27.3%);\n",
       "  color: black;\n",
       "}\n",
       "#T_70f99_row7_col0 {\n",
       "  width: 10em;\n",
       "  background: linear-gradient(90deg, #900000 96.7%, transparent 96.7%);\n",
       "  color: black;\n",
       "}\n",
       "#T_70f99_row7_col3, #T_70f99_row9_col4 {\n",
       "  width: 10em;\n",
       "  background: linear-gradient(90deg, #930000 95.9%, transparent 95.9%);\n",
       "  color: black;\n",
       "}\n",
       "#T_70f99_row7_col4 {\n",
       "  width: 10em;\n",
       "  background: linear-gradient(90deg, #b20000 90.1%, transparent 90.1%);\n",
       "  color: black;\n",
       "}\n",
       "#T_70f99_row7_col5 {\n",
       "  width: 10em;\n",
       "  background: linear-gradient(90deg, #a80000 91.9%, transparent 91.9%);\n",
       "  color: black;\n",
       "}\n",
       "#T_70f99_row7_col6 {\n",
       "  width: 10em;\n",
       "  background: linear-gradient(90deg, #8a0000 97.8%, transparent 97.8%);\n",
       "  color: black;\n",
       "}\n",
       "#T_70f99_row7_col7 {\n",
       "  width: 10em;\n",
       "  background: linear-gradient(90deg, transparent 24.3%, #0000fa 24.3%, #0000fa 42.1%, transparent 42.1%);\n",
       "  color: black;\n",
       "}\n",
       "#T_70f99_row7_col8 {\n",
       "  width: 10em;\n",
       "  background: linear-gradient(90deg, #ca0000 85.3%, transparent 85.3%);\n",
       "  color: black;\n",
       "}\n",
       "#T_70f99_row8_col0 {\n",
       "  width: 10em;\n",
       "  background: linear-gradient(90deg, #900000 96.6%, transparent 96.6%);\n",
       "  color: black;\n",
       "}\n",
       "#T_70f99_row8_col3 {\n",
       "  width: 10em;\n",
       "  background: linear-gradient(90deg, #e30000 80.3%, transparent 80.3%);\n",
       "  color: black;\n",
       "}\n",
       "#T_70f99_row8_col5 {\n",
       "  width: 10em;\n",
       "  background: linear-gradient(90deg, #d20000 83.6%, transparent 83.6%);\n",
       "  color: black;\n",
       "}\n",
       "#T_70f99_row8_col6 {\n",
       "  width: 10em;\n",
       "  background: linear-gradient(90deg, #c20000 86.7%, transparent 86.7%);\n",
       "  color: black;\n",
       "}\n",
       "#T_70f99_row8_col7 {\n",
       "  width: 10em;\n",
       "  background: linear-gradient(90deg, transparent 32.0%, #4545ff 32.0%, #4545ff 42.1%, transparent 42.1%);\n",
       "  color: black;\n",
       "}\n",
       "#T_70f99_row8_col8 {\n",
       "  width: 10em;\n",
       "  background: linear-gradient(90deg, #ca0000 85.4%, transparent 85.4%);\n",
       "  color: black;\n",
       "}\n",
       "#T_70f99_row9_col0 {\n",
       "  width: 10em;\n",
       "  background: linear-gradient(90deg, #920000 96.5%, transparent 96.5%);\n",
       "  color: black;\n",
       "}\n",
       "#T_70f99_row9_col3 {\n",
       "  width: 10em;\n",
       "  background: linear-gradient(90deg, #be0000 87.6%, transparent 87.6%);\n",
       "  color: black;\n",
       "}\n",
       "#T_70f99_row9_col5 {\n",
       "  width: 10em;\n",
       "  background: linear-gradient(90deg, #960000 95.7%, transparent 95.7%);\n",
       "  color: black;\n",
       "}\n",
       "#T_70f99_row9_col6 {\n",
       "  width: 10em;\n",
       "  background: linear-gradient(90deg, #800000 99.7%, transparent 99.7%);\n",
       "  color: black;\n",
       "}\n",
       "#T_70f99_row9_col7 {\n",
       "  width: 10em;\n",
       "  background: linear-gradient(90deg, transparent 42.1%, #fffdfd 42.1%, #fffdfd 50.3%, transparent 50.3%);\n",
       "  color: black;\n",
       "}\n",
       "#T_70f99_row9_col8 {\n",
       "  width: 10em;\n",
       "  background: linear-gradient(90deg, #d30000 83.4%, transparent 83.4%);\n",
       "  color: black;\n",
       "}\n",
       "</style>\n",
       "<table id=\"T_70f99\">\n",
       "  <thead>\n",
       "    <tr>\n",
       "      <th class=\"blank level0\" >&nbsp;</th>\n",
       "      <th id=\"T_70f99_level0_col0\" class=\"col_heading level0 col0\" >freedom_to_make_life_choices</th>\n",
       "      <th id=\"T_70f99_level0_col1\" class=\"col_heading level0 col1\" >country_name</th>\n",
       "      <th id=\"T_70f99_level0_col2\" class=\"col_heading level0 col2\" >year</th>\n",
       "      <th id=\"T_70f99_level0_col3\" class=\"col_heading level0 col3\" >life_ladder</th>\n",
       "      <th id=\"T_70f99_level0_col4\" class=\"col_heading level0 col4\" >log_gdp_per_capita</th>\n",
       "      <th id=\"T_70f99_level0_col5\" class=\"col_heading level0 col5\" >social_support</th>\n",
       "      <th id=\"T_70f99_level0_col6\" class=\"col_heading level0 col6\" >healthy_life_expectancy_at_birth</th>\n",
       "      <th id=\"T_70f99_level0_col7\" class=\"col_heading level0 col7\" >generosity</th>\n",
       "      <th id=\"T_70f99_level0_col8\" class=\"col_heading level0 col8\" >perceptions_of_corruption</th>\n",
       "    </tr>\n",
       "  </thead>\n",
       "  <tbody>\n",
       "    <tr>\n",
       "      <th id=\"T_70f99_level0_row0\" class=\"row_heading level0 row0\" >1293</th>\n",
       "      <td id=\"T_70f99_row0_col0\" class=\"data row0 col0\" >0.965000</td>\n",
       "      <td id=\"T_70f99_row0_col1\" class=\"data row0 col1\" >Malaysia</td>\n",
       "      <td id=\"T_70f99_row0_col2\" class=\"data row0 col2\" >2023</td>\n",
       "      <td id=\"T_70f99_row0_col3\" class=\"data row0 col3\" >5.868000</td>\n",
       "      <td id=\"T_70f99_row0_col4\" class=\"data row0 col4\" >10.283000</td>\n",
       "      <td id=\"T_70f99_row0_col5\" class=\"data row0 col5\" >0.779000</td>\n",
       "      <td id=\"T_70f99_row0_col6\" class=\"data row0 col6\" >65.600000</td>\n",
       "      <td id=\"T_70f99_row0_col7\" class=\"data row0 col7\" >0.154000</td>\n",
       "      <td id=\"T_70f99_row0_col8\" class=\"data row0 col8\" >0.754000</td>\n",
       "    </tr>\n",
       "    <tr>\n",
       "      <th id=\"T_70f99_level0_row1\" class=\"row_heading level0 row1\" >330</th>\n",
       "      <td id=\"T_70f99_row1_col0\" class=\"data row1 col0\" >0.961000</td>\n",
       "      <td id=\"T_70f99_row1_col1\" class=\"data row1 col1\" >Cambodia</td>\n",
       "      <td id=\"T_70f99_row1_col2\" class=\"data row1 col2\" >2023</td>\n",
       "      <td id=\"T_70f99_row1_col3\" class=\"data row1 col3\" >4.221000</td>\n",
       "      <td id=\"T_70f99_row1_col4\" class=\"data row1 col4\" >8.462000</td>\n",
       "      <td id=\"T_70f99_row1_col5\" class=\"data row1 col5\" >0.738000</td>\n",
       "      <td id=\"T_70f99_row1_col6\" class=\"data row1 col6\" >62.300000</td>\n",
       "      <td id=\"T_70f99_row1_col7\" class=\"data row1 col7\" >0.070000</td>\n",
       "      <td id=\"T_70f99_row1_col8\" class=\"data row1 col8\" >0.799000</td>\n",
       "    </tr>\n",
       "    <tr>\n",
       "      <th id=\"T_70f99_level0_row2\" class=\"row_heading level0 row2\" >2313</th>\n",
       "      <td id=\"T_70f99_row2_col0\" class=\"data row2 col0\" >0.956000</td>\n",
       "      <td id=\"T_70f99_row2_col1\" class=\"data row2 col1\" >Vietnam</td>\n",
       "      <td id=\"T_70f99_row2_col2\" class=\"data row2 col2\" >2023</td>\n",
       "      <td id=\"T_70f99_row2_col3\" class=\"data row2 col3\" >6.325000</td>\n",
       "      <td id=\"T_70f99_row2_col4\" class=\"data row2 col4\" >9.392000</td>\n",
       "      <td id=\"T_70f99_row2_col5\" class=\"data row2 col5\" >0.845000</td>\n",
       "      <td id=\"T_70f99_row2_col6\" class=\"data row2 col6\" >65.700000</td>\n",
       "      <td id=\"T_70f99_row2_col7\" class=\"data row2 col7\" >-0.159000</td>\n",
       "      <td id=\"T_70f99_row2_col8\" class=\"data row2 col8\" >0.655000</td>\n",
       "    </tr>\n",
       "    <tr>\n",
       "      <th id=\"T_70f99_level0_row3\" class=\"row_heading level0 row3\" >680</th>\n",
       "      <td id=\"T_70f99_row3_col0\" class=\"data row3 col0\" >0.943000</td>\n",
       "      <td id=\"T_70f99_row3_col1\" class=\"data row3 col1\" >Finland</td>\n",
       "      <td id=\"T_70f99_row3_col2\" class=\"data row3 col2\" >2023</td>\n",
       "      <td id=\"T_70f99_row3_col3\" class=\"data row3 col3\" >7.699000</td>\n",
       "      <td id=\"T_70f99_row3_col4\" class=\"data row3 col4\" >10.808000</td>\n",
       "      <td id=\"T_70f99_row3_col5\" class=\"data row3 col5\" >0.947000</td>\n",
       "      <td id=\"T_70f99_row3_col6\" class=\"data row3 col6\" >71.300000</td>\n",
       "      <td id=\"T_70f99_row3_col7\" class=\"data row3 col7\" >-0.001000</td>\n",
       "      <td id=\"T_70f99_row3_col8\" class=\"data row3 col8\" >0.185000</td>\n",
       "    </tr>\n",
       "    <tr>\n",
       "      <th id=\"T_70f99_level0_row4\" class=\"row_heading level0 row4\" >1147</th>\n",
       "      <td id=\"T_70f99_row4_col0\" class=\"data row4 col0\" >0.943000</td>\n",
       "      <td id=\"T_70f99_row4_col1\" class=\"data row4 col1\" >Kyrgyzstan</td>\n",
       "      <td id=\"T_70f99_row4_col2\" class=\"data row4 col2\" >2023</td>\n",
       "      <td id=\"T_70f99_row4_col3\" class=\"data row4 col3\" >5.910000</td>\n",
       "      <td id=\"T_70f99_row4_col4\" class=\"data row4 col4\" >8.573000</td>\n",
       "      <td id=\"T_70f99_row4_col5\" class=\"data row4 col5\" >0.946000</td>\n",
       "      <td id=\"T_70f99_row4_col6\" class=\"data row4 col6\" >67.900000</td>\n",
       "      <td id=\"T_70f99_row4_col7\" class=\"data row4 col7\" >0.145000</td>\n",
       "      <td id=\"T_70f99_row4_col8\" class=\"data row4 col8\" >0.899000</td>\n",
       "    </tr>\n",
       "    <tr>\n",
       "      <th id=\"T_70f99_level0_row5\" class=\"row_heading level0 row5\" >632</th>\n",
       "      <td id=\"T_70f99_row5_col0\" class=\"data row5 col0\" >0.942000</td>\n",
       "      <td id=\"T_70f99_row5_col1\" class=\"data row5 col1\" >El Salvador</td>\n",
       "      <td id=\"T_70f99_row5_col2\" class=\"data row5 col2\" >2023</td>\n",
       "      <td id=\"T_70f99_row5_col3\" class=\"data row5 col3\" >6.482000</td>\n",
       "      <td id=\"T_70f99_row5_col4\" class=\"data row5 col4\" >9.167000</td>\n",
       "      <td id=\"T_70f99_row5_col5\" class=\"data row5 col5\" >0.744000</td>\n",
       "      <td id=\"T_70f99_row5_col6\" class=\"data row5 col6\" >66.300000</td>\n",
       "      <td id=\"T_70f99_row5_col7\" class=\"data row5 col7\" >-0.104000</td>\n",
       "      <td id=\"T_70f99_row5_col8\" class=\"data row5 col8\" >0.496000</td>\n",
       "    </tr>\n",
       "    <tr>\n",
       "      <th id=\"T_70f99_level0_row6\" class=\"row_heading level0 row6\" >1594</th>\n",
       "      <td id=\"T_70f99_row6_col0\" class=\"data row6 col0\" >0.938000</td>\n",
       "      <td id=\"T_70f99_row6_col1\" class=\"data row6 col1\" >Norway</td>\n",
       "      <td id=\"T_70f99_row6_col2\" class=\"data row6 col2\" >2023</td>\n",
       "      <td id=\"T_70f99_row6_col3\" class=\"data row6 col3\" >7.249000</td>\n",
       "      <td id=\"T_70f99_row6_col4\" class=\"data row6 col4\" >11.125000</td>\n",
       "      <td id=\"T_70f99_row6_col5\" class=\"data row6 col5\" >0.952000</td>\n",
       "      <td id=\"T_70f99_row6_col6\" class=\"data row6 col6\" >71.600000</td>\n",
       "      <td id=\"T_70f99_row6_col7\" class=\"data row6 col7\" >0.219000</td>\n",
       "      <td id=\"T_70f99_row6_col8\" class=\"data row6 col8\" >0.245000</td>\n",
       "    </tr>\n",
       "    <tr>\n",
       "      <th id=\"T_70f99_level0_row7\" class=\"row_heading level0 row7\" >490</th>\n",
       "      <td id=\"T_70f99_row7_col0\" class=\"data row7 col0\" >0.933000</td>\n",
       "      <td id=\"T_70f99_row7_col1\" class=\"data row7 col1\" >Costa Rica</td>\n",
       "      <td id=\"T_70f99_row7_col2\" class=\"data row7 col2\" >2023</td>\n",
       "      <td id=\"T_70f99_row7_col3\" class=\"data row7 col3\" >7.384000</td>\n",
       "      <td id=\"T_70f99_row7_col4\" class=\"data row7 col4\" >10.021000</td>\n",
       "      <td id=\"T_70f99_row7_col5\" class=\"data row7 col5\" >0.875000</td>\n",
       "      <td id=\"T_70f99_row7_col6\" class=\"data row7 col6\" >70.000000</td>\n",
       "      <td id=\"T_70f99_row7_col7\" class=\"data row7 col7\" >-0.067000</td>\n",
       "      <td id=\"T_70f99_row7_col8\" class=\"data row7 col8\" >0.767000</td>\n",
       "    </tr>\n",
       "    <tr>\n",
       "      <th id=\"T_70f99_level0_row8\" class=\"row_heading level0 row8\" >1683</th>\n",
       "      <td id=\"T_70f99_row8_col0\" class=\"data row8 col0\" >0.932000</td>\n",
       "      <td id=\"T_70f99_row8_col1\" class=\"data row8 col1\" >Philippines</td>\n",
       "      <td id=\"T_70f99_row8_col2\" class=\"data row8 col2\" >2023</td>\n",
       "      <td id=\"T_70f99_row8_col3\" class=\"data row8 col3\" >6.184000</td>\n",
       "      <td id=\"T_70f99_row8_col4\" class=\"data row8 col4\" >9.102000</td>\n",
       "      <td id=\"T_70f99_row8_col5\" class=\"data row8 col5\" >0.796000</td>\n",
       "      <td id=\"T_70f99_row8_col6\" class=\"data row8 col6\" >62.100000</td>\n",
       "      <td id=\"T_70f99_row8_col7\" class=\"data row8 col7\" >-0.038000</td>\n",
       "      <td id=\"T_70f99_row8_col8\" class=\"data row8 col8\" >0.768000</td>\n",
       "    </tr>\n",
       "    <tr>\n",
       "      <th id=\"T_70f99_level0_row9\" class=\"row_heading level0 row9\" >1882</th>\n",
       "      <td id=\"T_70f99_row9_col0\" class=\"data row9 col0\" >0.931000</td>\n",
       "      <td id=\"T_70f99_row9_col1\" class=\"data row9 col1\" >Slovenia</td>\n",
       "      <td id=\"T_70f99_row9_col2\" class=\"data row9 col2\" >2023</td>\n",
       "      <td id=\"T_70f99_row9_col3\" class=\"data row9 col3\" >6.746000</td>\n",
       "      <td id=\"T_70f99_row9_col4\" class=\"data row9 col4\" >10.664000</td>\n",
       "      <td id=\"T_70f99_row9_col5\" class=\"data row9 col5\" >0.911000</td>\n",
       "      <td id=\"T_70f99_row9_col6\" class=\"data row9 col6\" >71.400000</td>\n",
       "      <td id=\"T_70f99_row9_col7\" class=\"data row9 col7\" >0.031000</td>\n",
       "      <td id=\"T_70f99_row9_col8\" class=\"data row9 col8\" >0.750000</td>\n",
       "    </tr>\n",
       "  </tbody>\n",
       "</table>\n"
      ],
      "text/plain": [
       "<pandas.io.formats.style.Styler at 0x247b405d870>"
      ]
     },
     "execution_count": 18,
     "metadata": {},
     "output_type": "execute_result"
    }
   ],
   "source": [
    "top_columns = top_open.columns\n",
    "top_open.style.bar(subset=[\"freedom_to_make_life_choices\",\"life_ladder\",\"log_gdp_per_capita\",\"social_support\",\"healthy_life_expectancy_at_birth\",\"generosity\",\"perceptions_of_corruption\"],cmap=\"seismic\").set_properties(color=\"black\")\n"
   ]
  },
  {
   "cell_type": "code",
   "execution_count": 19,
   "metadata": {},
   "outputs": [
    {
     "data": {
      "text/html": [
       "<style type=\"text/css\">\n",
       "#T_7e21a_row0_col0, #T_7e21a_row1_col6, #T_7e21a_row3_col3, #T_7e21a_row3_col4, #T_7e21a_row3_col5, #T_7e21a_row7_col8 {\n",
       "  width: 10em;\n",
       "  background: linear-gradient(90deg, #800000 100.0%, transparent 100.0%);\n",
       "}\n",
       "#T_7e21a_row0_col3 {\n",
       "  width: 10em;\n",
       "  background: linear-gradient(90deg, #d00000 84.0%, transparent 84.0%);\n",
       "}\n",
       "#T_7e21a_row0_col4 {\n",
       "  width: 10em;\n",
       "  background: linear-gradient(90deg, #a60000 92.2%, transparent 92.2%);\n",
       "}\n",
       "#T_7e21a_row0_col5 {\n",
       "  width: 10em;\n",
       "  background: linear-gradient(90deg, #b80000 89.0%, transparent 89.0%);\n",
       "}\n",
       "#T_7e21a_row0_col6 {\n",
       "  width: 10em;\n",
       "  background: linear-gradient(90deg, #a00000 93.7%, transparent 93.7%);\n",
       "}\n",
       "#T_7e21a_row0_col7 {\n",
       "  width: 10em;\n",
       "  background: linear-gradient(90deg, transparent 47.1%, #800000 47.1%, #800000 100.0%, transparent 100.0%);\n",
       "}\n",
       "#T_7e21a_row0_col8 {\n",
       "  width: 10em;\n",
       "  background: linear-gradient(90deg, #ca0000 85.4%, transparent 85.4%);\n",
       "}\n",
       "#T_7e21a_row1_col0 {\n",
       "  width: 10em;\n",
       "  background: linear-gradient(90deg, #930000 95.8%, transparent 95.8%);\n",
       "}\n",
       "#T_7e21a_row1_col3 {\n",
       "  width: 10em;\n",
       "  background: linear-gradient(90deg, #8c0000 97.3%, transparent 97.3%);\n",
       "}\n",
       "#T_7e21a_row1_col4 {\n",
       "  width: 10em;\n",
       "  background: linear-gradient(90deg, #820000 99.3%, transparent 99.3%);\n",
       "}\n",
       "#T_7e21a_row1_col5 {\n",
       "  width: 10em;\n",
       "  background: linear-gradient(90deg, #b20000 90.0%, transparent 90.0%);\n",
       "}\n",
       "#T_7e21a_row1_col7 {\n",
       "  width: 10em;\n",
       "  background: linear-gradient(90deg, transparent 0.6%, #00004f 0.6%, #00004f 47.1%, transparent 47.1%);\n",
       "}\n",
       "#T_7e21a_row1_col8 {\n",
       "  width: 10em;\n",
       "  background: linear-gradient(90deg, #b20000 89.9%, transparent 89.9%);\n",
       "}\n",
       "#T_7e21a_row2_col0 {\n",
       "  width: 10em;\n",
       "  background: linear-gradient(90deg, #980000 95.3%, transparent 95.3%);\n",
       "}\n",
       "#T_7e21a_row2_col3 {\n",
       "  width: 10em;\n",
       "  background: linear-gradient(90deg, #f80000 76.3%, transparent 76.3%);\n",
       "}\n",
       "#T_7e21a_row2_col4 {\n",
       "  width: 10em;\n",
       "  background: linear-gradient(90deg, #ff3939 69.3%, transparent 69.3%);\n",
       "}\n",
       "#T_7e21a_row2_col5 {\n",
       "  width: 10em;\n",
       "  background: linear-gradient(90deg, #ff5151 67.0%, transparent 67.0%);\n",
       "}\n",
       "#T_7e21a_row2_col6 {\n",
       "  width: 10em;\n",
       "  background: linear-gradient(90deg, #ff0101 74.9%, transparent 74.9%);\n",
       "}\n",
       "#T_7e21a_row2_col7 {\n",
       "  width: 10em;\n",
       "  background: linear-gradient(90deg, transparent 47.1%, #fa0000 47.1%, #fa0000 75.8%, transparent 75.8%);\n",
       "}\n",
       "#T_7e21a_row2_col8 {\n",
       "  width: 10em;\n",
       "  background: linear-gradient(90deg, #d00000 84.4%, transparent 84.4%);\n",
       "}\n",
       "#T_7e21a_row3_col0 {\n",
       "  width: 10em;\n",
       "  background: linear-gradient(90deg, #a20000 93.2%, transparent 93.2%);\n",
       "}\n",
       "#T_7e21a_row3_col6 {\n",
       "  width: 10em;\n",
       "  background: linear-gradient(90deg, #8e0000 97.1%, transparent 97.1%);\n",
       "}\n",
       "#T_7e21a_row3_col7 {\n",
       "  width: 10em;\n",
       "  background: linear-gradient(90deg, transparent 4.4%, #00006b 4.4%, #00006b 47.1%, transparent 47.1%);\n",
       "}\n",
       "#T_7e21a_row3_col8, #T_7e21a_row7_col4 {\n",
       "  width: 10em;\n",
       "  background: linear-gradient(90deg, #b00000 90.5%, transparent 90.5%);\n",
       "}\n",
       "#T_7e21a_row4_col0 {\n",
       "  width: 10em;\n",
       "  background: linear-gradient(90deg, #be0000 87.8%, transparent 87.8%);\n",
       "}\n",
       "#T_7e21a_row4_col3 {\n",
       "  width: 10em;\n",
       "  background: linear-gradient(90deg, #ff1d1d 72.0%, transparent 72.0%);\n",
       "}\n",
       "#T_7e21a_row4_col4 {\n",
       "  width: 10em;\n",
       "  background: linear-gradient(90deg, #da0000 82.4%, transparent 82.4%);\n",
       "}\n",
       "#T_7e21a_row4_col5 {\n",
       "  width: 10em;\n",
       "  background: linear-gradient(90deg, #ff5555 66.7%, transparent 66.7%);\n",
       "}\n",
       "#T_7e21a_row4_col6, #T_7e21a_row5_col0 {\n",
       "  width: 10em;\n",
       "  background: linear-gradient(90deg, #cc0000 85.0%, transparent 85.0%);\n",
       "}\n",
       "#T_7e21a_row4_col7 {\n",
       "  width: 10em;\n",
       "  background: linear-gradient(90deg, transparent 47.1%, #fff5f5 47.1%, #fff5f5 50.8%, transparent 50.8%);\n",
       "}\n",
       "#T_7e21a_row4_col8 {\n",
       "  width: 10em;\n",
       "  background: linear-gradient(90deg, #ff0101 74.7%, transparent 74.7%);\n",
       "}\n",
       "#T_7e21a_row5_col3 {\n",
       "  width: 10em;\n",
       "  background: linear-gradient(90deg, #aa0000 91.7%, transparent 91.7%);\n",
       "}\n",
       "#T_7e21a_row5_col4 {\n",
       "  width: 10em;\n",
       "  background: linear-gradient(90deg, #800000 99.7%, transparent 99.7%);\n",
       "}\n",
       "#T_7e21a_row5_col5 {\n",
       "  width: 10em;\n",
       "  background: linear-gradient(90deg, #9a0000 94.6%, transparent 94.6%);\n",
       "}\n",
       "#T_7e21a_row5_col6 {\n",
       "  width: 10em;\n",
       "  background: linear-gradient(90deg, #900000 96.8%, transparent 96.8%);\n",
       "}\n",
       "#T_7e21a_row5_col7 {\n",
       "  width: 10em;\n",
       "  background: linear-gradient(90deg, transparent 14.0%, #0000ae 14.0%, #0000ae 47.1%, transparent 47.1%);\n",
       "}\n",
       "#T_7e21a_row5_col8 {\n",
       "  width: 10em;\n",
       "  background: linear-gradient(90deg, #d30000 83.6%, transparent 83.6%);\n",
       "}\n",
       "#T_7e21a_row6_col0 {\n",
       "  width: 10em;\n",
       "  background: linear-gradient(90deg, #dc0000 82.0%, transparent 82.0%);\n",
       "}\n",
       "#T_7e21a_row6_col3 {\n",
       "  width: 10em;\n",
       "  background: linear-gradient(90deg, #ff0505 74.4%, transparent 74.4%);\n",
       "}\n",
       "#T_7e21a_row6_col4 {\n",
       "  width: 10em;\n",
       "  background: linear-gradient(90deg, #ff3131 70.1%, transparent 70.1%);\n",
       "}\n",
       "#T_7e21a_row6_col5 {\n",
       "  width: 10em;\n",
       "  background: linear-gradient(90deg, #fa0000 76.1%, transparent 76.1%);\n",
       "}\n",
       "#T_7e21a_row6_col6 {\n",
       "  width: 10em;\n",
       "  background: linear-gradient(90deg, #dc0000 81.7%, transparent 81.7%);\n",
       "}\n",
       "#T_7e21a_row6_col7 {\n",
       "  width: 10em;\n",
       "  background: linear-gradient(90deg, transparent 47.1%, #ff5151 47.1%, #ff5151 67.1%, transparent 67.1%);\n",
       "}\n",
       "#T_7e21a_row6_col8 {\n",
       "  width: 10em;\n",
       "  background: linear-gradient(90deg, #be0000 87.6%, transparent 87.6%);\n",
       "}\n",
       "#T_7e21a_row7_col0 {\n",
       "  width: 10em;\n",
       "  background: linear-gradient(90deg, #e00000 81.1%, transparent 81.1%);\n",
       "}\n",
       "#T_7e21a_row7_col3, #T_7e21a_row9_col3 {\n",
       "  width: 10em;\n",
       "  background: linear-gradient(90deg, #ff9595 60.2%, transparent 60.2%);\n",
       "}\n",
       "#T_7e21a_row7_col5 {\n",
       "  width: 10em;\n",
       "  background: linear-gradient(90deg, #fc0000 75.5%, transparent 75.5%);\n",
       "}\n",
       "#T_7e21a_row7_col6 {\n",
       "  width: 10em;\n",
       "  background: linear-gradient(90deg, #a30000 92.9%, transparent 92.9%);\n",
       "}\n",
       "#T_7e21a_row7_col7 {\n",
       "  width: 10em;\n",
       "  background: linear-gradient(90deg, transparent 25.8%, #0909ff 25.8%, #0909ff 47.1%, transparent 47.1%);\n",
       "}\n",
       "#T_7e21a_row8_col0 {\n",
       "  width: 10em;\n",
       "  background: linear-gradient(90deg, #ee0000 78.4%, transparent 78.4%);\n",
       "}\n",
       "#T_7e21a_row8_col3 {\n",
       "  width: 10em;\n",
       "  background: linear-gradient(90deg, #fc0000 75.6%, transparent 75.6%);\n",
       "}\n",
       "#T_7e21a_row8_col4 {\n",
       "  width: 10em;\n",
       "  background: linear-gradient(90deg, #b80000 88.7%, transparent 88.7%);\n",
       "}\n",
       "#T_7e21a_row8_col5 {\n",
       "  width: 10em;\n",
       "  background: linear-gradient(90deg, #f40000 77.2%, transparent 77.2%);\n",
       "}\n",
       "#T_7e21a_row8_col6 {\n",
       "  width: 10em;\n",
       "  background: linear-gradient(90deg, #9e0000 94.0%, transparent 94.0%);\n",
       "}\n",
       "#T_7e21a_row8_col7 {\n",
       "  width: 10em;\n",
       "  background: linear-gradient(90deg, #00004c 47.1%, transparent 47.1%);\n",
       "}\n",
       "#T_7e21a_row8_col8 {\n",
       "  width: 10em;\n",
       "  background: linear-gradient(90deg, #860000 98.5%, transparent 98.5%);\n",
       "}\n",
       "#T_7e21a_row9_col0 {\n",
       "  width: 10em;\n",
       "  background: linear-gradient(90deg, #ff0d0d 73.5%, transparent 73.5%);\n",
       "}\n",
       "#T_7e21a_row9_col4 {\n",
       "  width: 10em;\n",
       "  background: linear-gradient(90deg, #f20000 77.4%, transparent 77.4%);\n",
       "}\n",
       "#T_7e21a_row9_col5 {\n",
       "  width: 10em;\n",
       "  background: linear-gradient(90deg, #ffdddd 53.1%, transparent 53.1%);\n",
       "}\n",
       "#T_7e21a_row9_col6 {\n",
       "  width: 10em;\n",
       "  background: linear-gradient(90deg, #d30000 83.5%, transparent 83.5%);\n",
       "}\n",
       "#T_7e21a_row9_col7 {\n",
       "  width: 10em;\n",
       "  background: linear-gradient(90deg, transparent 47.1%, #e9e9ff 47.1%, #e9e9ff 47.9%, transparent 47.9%);\n",
       "}\n",
       "#T_7e21a_row9_col8 {\n",
       "  width: 10em;\n",
       "  background: linear-gradient(90deg, #ec0000 78.7%, transparent 78.7%);\n",
       "}\n",
       "</style>\n",
       "<table id=\"T_7e21a\">\n",
       "  <thead>\n",
       "    <tr>\n",
       "      <th class=\"blank level0\" >&nbsp;</th>\n",
       "      <th id=\"T_7e21a_level0_col0\" class=\"col_heading level0 col0\" >freedom_to_make_life_choices</th>\n",
       "      <th id=\"T_7e21a_level0_col1\" class=\"col_heading level0 col1\" >country_name</th>\n",
       "      <th id=\"T_7e21a_level0_col2\" class=\"col_heading level0 col2\" >year</th>\n",
       "      <th id=\"T_7e21a_level0_col3\" class=\"col_heading level0 col3\" >life_ladder</th>\n",
       "      <th id=\"T_7e21a_level0_col4\" class=\"col_heading level0 col4\" >log_gdp_per_capita</th>\n",
       "      <th id=\"T_7e21a_level0_col5\" class=\"col_heading level0 col5\" >social_support</th>\n",
       "      <th id=\"T_7e21a_level0_col6\" class=\"col_heading level0 col6\" >healthy_life_expectancy_at_birth</th>\n",
       "      <th id=\"T_7e21a_level0_col7\" class=\"col_heading level0 col7\" >generosity</th>\n",
       "      <th id=\"T_7e21a_level0_col8\" class=\"col_heading level0 col8\" >perceptions_of_corruption</th>\n",
       "    </tr>\n",
       "  </thead>\n",
       "  <tbody>\n",
       "    <tr>\n",
       "      <th id=\"T_7e21a_level0_row0\" class=\"row_heading level0 row0\" >938</th>\n",
       "      <td id=\"T_7e21a_row0_col0\" class=\"data row0 col0\" >0.615000</td>\n",
       "      <td id=\"T_7e21a_row0_col1\" class=\"data row0 col1\" >Iran</td>\n",
       "      <td id=\"T_7e21a_row0_col2\" class=\"data row0 col2\" >2023</td>\n",
       "      <td id=\"T_7e21a_row0_col3\" class=\"data row0 col3\" >5.004000</td>\n",
       "      <td id=\"T_7e21a_row0_col4\" class=\"data row0 col4\" >9.651000</td>\n",
       "      <td id=\"T_7e21a_row0_col5\" class=\"data row0 col5\" >0.809000</td>\n",
       "      <td id=\"T_7e21a_row0_col6\" class=\"data row0 col6\" >66.900000</td>\n",
       "      <td id=\"T_7e21a_row0_col7\" class=\"data row0 col7\" >0.254000</td>\n",
       "      <td id=\"T_7e21a_row0_col8\" class=\"data row0 col8\" >0.764000</td>\n",
       "    </tr>\n",
       "    <tr>\n",
       "      <th id=\"T_7e21a_level0_row1\" class=\"row_heading level0 row1\" >787</th>\n",
       "      <td id=\"T_7e21a_row1_col0\" class=\"data row1 col0\" >0.589000</td>\n",
       "      <td id=\"T_7e21a_row1_col1\" class=\"data row1 col1\" >Greece</td>\n",
       "      <td id=\"T_7e21a_row1_col2\" class=\"data row1 col2\" >2023</td>\n",
       "      <td id=\"T_7e21a_row1_col3\" class=\"data row1 col3\" >5.796000</td>\n",
       "      <td id=\"T_7e21a_row1_col4\" class=\"data row1 col4\" >10.387000</td>\n",
       "      <td id=\"T_7e21a_row1_col5\" class=\"data row1 col5\" >0.818000</td>\n",
       "      <td id=\"T_7e21a_row1_col6\" class=\"data row1 col6\" >71.400000</td>\n",
       "      <td id=\"T_7e21a_row1_col7\" class=\"data row1 col7\" >-0.223000</td>\n",
       "      <td id=\"T_7e21a_row1_col8\" class=\"data row1 col8\" >0.805000</td>\n",
       "    </tr>\n",
       "    <tr>\n",
       "      <th id=\"T_7e21a_level0_row2\" class=\"row_heading level0 row2\" >387</th>\n",
       "      <td id=\"T_7e21a_row2_col0\" class=\"data row2 col0\" >0.586000</td>\n",
       "      <td id=\"T_7e21a_row2_col1\" class=\"data row2 col1\" >Chad</td>\n",
       "      <td id=\"T_7e21a_row2_col2\" class=\"data row2 col2\" >2023</td>\n",
       "      <td id=\"T_7e21a_row2_col3\" class=\"data row2 col3\" >4.544000</td>\n",
       "      <td id=\"T_7e21a_row2_col4\" class=\"data row2 col4\" >7.254000</td>\n",
       "      <td id=\"T_7e21a_row2_col5\" class=\"data row2 col5\" >0.609000</td>\n",
       "      <td id=\"T_7e21a_row2_col6\" class=\"data row2 col6\" >53.500000</td>\n",
       "      <td id=\"T_7e21a_row2_col7\" class=\"data row2 col7\" >0.138000</td>\n",
       "      <td id=\"T_7e21a_row2_col8\" class=\"data row2 col8\" >0.755000</td>\n",
       "    </tr>\n",
       "    <tr>\n",
       "      <th id=\"T_7e21a_level0_row3\" class=\"row_heading level0 row3\" >506</th>\n",
       "      <td id=\"T_7e21a_row3_col0\" class=\"data row3 col0\" >0.573000</td>\n",
       "      <td id=\"T_7e21a_row3_col1\" class=\"data row3 col1\" >Croatia</td>\n",
       "      <td id=\"T_7e21a_row3_col2\" class=\"data row3 col2\" >2023</td>\n",
       "      <td id=\"T_7e21a_row3_col3\" class=\"data row3 col3\" >5.958000</td>\n",
       "      <td id=\"T_7e21a_row3_col4\" class=\"data row3 col4\" >10.462000</td>\n",
       "      <td id=\"T_7e21a_row3_col5\" class=\"data row3 col5\" >0.909000</td>\n",
       "      <td id=\"T_7e21a_row3_col6\" class=\"data row3 col6\" >69.300000</td>\n",
       "      <td id=\"T_7e21a_row3_col7\" class=\"data row3 col7\" >-0.205000</td>\n",
       "      <td id=\"T_7e21a_row3_col8\" class=\"data row3 col8\" >0.810000</td>\n",
       "    </tr>\n",
       "    <tr>\n",
       "      <th id=\"T_7e21a_level0_row4\" class=\"row_heading level0 row4\" >1341</th>\n",
       "      <td id=\"T_7e21a_row4_col0\" class=\"data row4 col0\" >0.540000</td>\n",
       "      <td id=\"T_7e21a_row4_col1\" class=\"data row4 col1\" >Mauritania</td>\n",
       "      <td id=\"T_7e21a_row4_col2\" class=\"data row4 col2\" >2023</td>\n",
       "      <td id=\"T_7e21a_row4_col3\" class=\"data row4 col3\" >4.292000</td>\n",
       "      <td id=\"T_7e21a_row4_col4\" class=\"data row4 col4\" >8.620000</td>\n",
       "      <td id=\"T_7e21a_row4_col5\" class=\"data row4 col5\" >0.606000</td>\n",
       "      <td id=\"T_7e21a_row4_col6\" class=\"data row4 col6\" >60.700000</td>\n",
       "      <td id=\"T_7e21a_row4_col7\" class=\"data row4 col7\" >0.018000</td>\n",
       "      <td id=\"T_7e21a_row4_col8\" class=\"data row4 col8\" >0.669000</td>\n",
       "    </tr>\n",
       "    <tr>\n",
       "      <th id=\"T_7e21a_level0_row5\" class=\"row_heading level0 row5\" >2154</th>\n",
       "      <td id=\"T_7e21a_row5_col0\" class=\"data row5 col0\" >0.523000</td>\n",
       "      <td id=\"T_7e21a_row5_col1\" class=\"data row5 col1\" >Türkiye</td>\n",
       "      <td id=\"T_7e21a_row5_col2\" class=\"data row5 col2\" >2023</td>\n",
       "      <td id=\"T_7e21a_row5_col3\" class=\"data row5 col3\" >5.463000</td>\n",
       "      <td id=\"T_7e21a_row5_col4\" class=\"data row5 col4\" >10.429000</td>\n",
       "      <td id=\"T_7e21a_row5_col5\" class=\"data row5 col5\" >0.860000</td>\n",
       "      <td id=\"T_7e21a_row5_col6\" class=\"data row5 col6\" >69.100000</td>\n",
       "      <td id=\"T_7e21a_row5_col7\" class=\"data row5 col7\" >-0.159000</td>\n",
       "      <td id=\"T_7e21a_row5_col8\" class=\"data row5 col8\" >0.748000</td>\n",
       "    </tr>\n",
       "    <tr>\n",
       "      <th id=\"T_7e21a_level0_row6\" class=\"row_heading level0 row6\" >1262</th>\n",
       "      <td id=\"T_7e21a_row6_col0\" class=\"data row6 col0\" >0.504000</td>\n",
       "      <td id=\"T_7e21a_row6_col1\" class=\"data row6 col1\" >Madagascar</td>\n",
       "      <td id=\"T_7e21a_row6_col2\" class=\"data row6 col2\" >2023</td>\n",
       "      <td id=\"T_7e21a_row6_col3\" class=\"data row6 col3\" >4.433000</td>\n",
       "      <td id=\"T_7e21a_row6_col4\" class=\"data row6 col4\" >7.333000</td>\n",
       "      <td id=\"T_7e21a_row6_col5\" class=\"data row6 col5\" >0.692000</td>\n",
       "      <td id=\"T_7e21a_row6_col6\" class=\"data row6 col6\" >58.300000</td>\n",
       "      <td id=\"T_7e21a_row6_col7\" class=\"data row6 col7\" >0.096000</td>\n",
       "      <td id=\"T_7e21a_row6_col8\" class=\"data row6 col8\" >0.784000</td>\n",
       "    </tr>\n",
       "    <tr>\n",
       "      <th id=\"T_7e21a_level0_row7\" class=\"row_heading level0 row7\" >1194</th>\n",
       "      <td id=\"T_7e21a_row7_col0\" class=\"data row7 col0\" >0.499000</td>\n",
       "      <td id=\"T_7e21a_row7_col1\" class=\"data row7 col1\" >Lebanon</td>\n",
       "      <td id=\"T_7e21a_row7_col2\" class=\"data row7 col2\" >2023</td>\n",
       "      <td id=\"T_7e21a_row7_col3\" class=\"data row7 col3\" >3.588000</td>\n",
       "      <td id=\"T_7e21a_row7_col4\" class=\"data row7 col4\" >9.471000</td>\n",
       "      <td id=\"T_7e21a_row7_col5\" class=\"data row7 col5\" >0.686000</td>\n",
       "      <td id=\"T_7e21a_row7_col6\" class=\"data row7 col6\" >66.300000</td>\n",
       "      <td id=\"T_7e21a_row7_col7\" class=\"data row7 col7\" >-0.102000</td>\n",
       "      <td id=\"T_7e21a_row7_col8\" class=\"data row7 col8\" >0.895000</td>\n",
       "    </tr>\n",
       "    <tr>\n",
       "      <th id=\"T_7e21a_level0_row8\" class=\"row_heading level0 row8\" >2126</th>\n",
       "      <td id=\"T_7e21a_row8_col0\" class=\"data row8 col0\" >0.482000</td>\n",
       "      <td id=\"T_7e21a_row8_col1\" class=\"data row8 col1\" >Tunisia</td>\n",
       "      <td id=\"T_7e21a_row8_col2\" class=\"data row8 col2\" >2023</td>\n",
       "      <td id=\"T_7e21a_row8_col3\" class=\"data row8 col3\" >4.505000</td>\n",
       "      <td id=\"T_7e21a_row8_col4\" class=\"data row8 col4\" >9.282000</td>\n",
       "      <td id=\"T_7e21a_row8_col5\" class=\"data row8 col5\" >0.702000</td>\n",
       "      <td id=\"T_7e21a_row8_col6\" class=\"data row8 col6\" >67.100000</td>\n",
       "      <td id=\"T_7e21a_row8_col7\" class=\"data row8 col7\" >-0.226000</td>\n",
       "      <td id=\"T_7e21a_row8_col8\" class=\"data row8 col8\" >0.882000</td>\n",
       "    </tr>\n",
       "    <tr>\n",
       "      <th id=\"T_7e21a_level0_row9\" class=\"row_heading level0 row9\" >448</th>\n",
       "      <td id=\"T_7e21a_row9_col0\" class=\"data row9 col0\" >0.452000</td>\n",
       "      <td id=\"T_7e21a_row9_col1\" class=\"data row9 col1\" >Comoros</td>\n",
       "      <td id=\"T_7e21a_row9_col2\" class=\"data row9 col2\" >2023</td>\n",
       "      <td id=\"T_7e21a_row9_col3\" class=\"data row9 col3\" >3.588000</td>\n",
       "      <td id=\"T_7e21a_row9_col4\" class=\"data row9 col4\" >8.095000</td>\n",
       "      <td id=\"T_7e21a_row9_col5\" class=\"data row9 col5\" >0.483000</td>\n",
       "      <td id=\"T_7e21a_row9_col6\" class=\"data row9 col6\" >59.600000</td>\n",
       "      <td id=\"T_7e21a_row9_col7\" class=\"data row9 col7\" >0.004000</td>\n",
       "      <td id=\"T_7e21a_row9_col8\" class=\"data row9 col8\" >0.704000</td>\n",
       "    </tr>\n",
       "  </tbody>\n",
       "</table>\n"
      ],
      "text/plain": [
       "<pandas.io.formats.style.Styler at 0x247b405dc90>"
      ]
     },
     "execution_count": 19,
     "metadata": {},
     "output_type": "execute_result"
    }
   ],
   "source": [
    "bot_open.style.bar(subset=[\"freedom_to_make_life_choices\",\"life_ladder\",\"log_gdp_per_capita\",\"social_support\",\"healthy_life_expectancy_at_birth\",\"generosity\",\"perceptions_of_corruption\"],cmap=\"seismic\")"
   ]
  },
  {
   "cell_type": "code",
   "execution_count": 20,
   "metadata": {},
   "outputs": [],
   "source": [
    "from psynlig import plot_correlation_heatmap"
   ]
  },
  {
   "cell_type": "code",
   "execution_count": 27,
   "metadata": {},
   "outputs": [
    {
     "data": {
      "image/png": "[encoded data removed]",
      "text/plain": [
       "<Figure size 1000x800 with 2 Axes>"
      ]
     },
     "metadata": {},
     "output_type": "display_data"
    }
   ],
   "source": [
    "kwargs = {\n",
    "    'heatmap': {\n",
    "        'vmin': -1,\n",
    "        'vmax': 1,\n",
    "        'cmap': 'RdBu',\n",
    "    },\n",
    "    'figure': {\n",
    "        'figsize': (10, 8),\n",
    "    },\n",
    "}\n",
    "\n",
    "corr_data = whr_23[['life_ladder','log_gdp_per_capita','social_support','healthy_life_expectancy_at_birth', 'freedom_to_make_life_choices','generosity','perceptions_of_corruption','positive_affect','negative_affect']]\n",
    "\n",
    "font = {'family': 'serif',\n",
    "        'color':  'darkred',\n",
    "        'weight': 'bold',\n",
    "        'size': 'xx-large',\n",
    "        }\n",
    "plot_correlation_heatmap(corr_data,bubble=True,annotate=False, **kwargs)\n",
    "plt.title(\"Correlations between Happiness Index Metrics\",fontdict=font)\n",
    "plt.savefig(\"corr_plot.png\")\n",
    "plt.show()"
   ]
  },
  {
   "cell_type": "code",
   "execution_count": 23,
   "metadata": {},
   "outputs": [
    {
     "data": {
      "text/html": [
       "<div>\n",
       "<style scoped>\n",
       "    .dataframe tbody tr th:only-of-type {\n",
       "        vertical-align: middle;\n",
       "    }\n",
       "\n",
       "    .dataframe tbody tr th {\n",
       "        vertical-align: top;\n",
       "    }\n",
       "\n",
       "    .dataframe thead th {\n",
       "        text-align: right;\n",
       "    }\n",
       "</style>\n",
       "<table border=\"1\" class=\"dataframe\">\n",
       "  <thead>\n",
       "    <tr style=\"text-align: right;\">\n",
       "      <th></th>\n",
       "      <th>country_name</th>\n",
       "      <th>year</th>\n",
       "      <th>life_ladder</th>\n",
       "      <th>log_gdp_per_capita</th>\n",
       "      <th>social_support</th>\n",
       "      <th>healthy_life_expectancy_at_birth</th>\n",
       "      <th>freedom_to_make_life_choices</th>\n",
       "      <th>generosity</th>\n",
       "      <th>perceptions_of_corruption</th>\n",
       "      <th>positive_affect</th>\n",
       "      <th>negative_affect</th>\n",
       "    </tr>\n",
       "  </thead>\n",
       "  <tbody>\n",
       "    <tr>\n",
       "      <th>680</th>\n",
       "      <td>Finland</td>\n",
       "      <td>2023</td>\n",
       "      <td>7.699</td>\n",
       "      <td>10.808</td>\n",
       "      <td>0.947</td>\n",
       "      <td>71.3</td>\n",
       "      <td>0.943</td>\n",
       "      <td>-0.001</td>\n",
       "      <td>0.185</td>\n",
       "      <td>0.717</td>\n",
       "      <td>0.173</td>\n",
       "    </tr>\n",
       "    <tr>\n",
       "      <th>886</th>\n",
       "      <td>Iceland</td>\n",
       "      <td>2023</td>\n",
       "      <td>7.562</td>\n",
       "      <td>10.934</td>\n",
       "      <td>0.979</td>\n",
       "      <td>72.1</td>\n",
       "      <td>0.918</td>\n",
       "      <td>0.299</td>\n",
       "      <td>0.697</td>\n",
       "      <td>0.793</td>\n",
       "      <td>0.185</td>\n",
       "    </tr>\n",
       "    <tr>\n",
       "      <th>556</th>\n",
       "      <td>Denmark</td>\n",
       "      <td>2023</td>\n",
       "      <td>7.504</td>\n",
       "      <td>10.996</td>\n",
       "      <td>0.916</td>\n",
       "      <td>71.5</td>\n",
       "      <td>0.923</td>\n",
       "      <td>0.089</td>\n",
       "      <td>0.184</td>\n",
       "      <td>0.757</td>\n",
       "      <td>0.229</td>\n",
       "    </tr>\n",
       "    <tr>\n",
       "      <th>490</th>\n",
       "      <td>Costa Rica</td>\n",
       "      <td>2023</td>\n",
       "      <td>7.384</td>\n",
       "      <td>10.021</td>\n",
       "      <td>0.875</td>\n",
       "      <td>70.0</td>\n",
       "      <td>0.933</td>\n",
       "      <td>-0.067</td>\n",
       "      <td>0.767</td>\n",
       "      <td>0.806</td>\n",
       "      <td>0.282</td>\n",
       "    </tr>\n",
       "    <tr>\n",
       "      <th>1498</th>\n",
       "      <td>Netherlands</td>\n",
       "      <td>2023</td>\n",
       "      <td>7.255</td>\n",
       "      <td>10.977</td>\n",
       "      <td>0.915</td>\n",
       "      <td>71.7</td>\n",
       "      <td>0.847</td>\n",
       "      <td>0.223</td>\n",
       "      <td>0.424</td>\n",
       "      <td>0.693</td>\n",
       "      <td>0.202</td>\n",
       "    </tr>\n",
       "    <tr>\n",
       "      <th>...</th>\n",
       "      <td>...</td>\n",
       "      <td>...</td>\n",
       "      <td>...</td>\n",
       "      <td>...</td>\n",
       "      <td>...</td>\n",
       "      <td>...</td>\n",
       "      <td>...</td>\n",
       "      <td>...</td>\n",
       "      <td>...</td>\n",
       "      <td>...</td>\n",
       "      <td>...</td>\n",
       "    </tr>\n",
       "    <tr>\n",
       "      <th>2362</th>\n",
       "      <td>Zimbabwe</td>\n",
       "      <td>2023</td>\n",
       "      <td>3.572</td>\n",
       "      <td>7.679</td>\n",
       "      <td>0.694</td>\n",
       "      <td>55.0</td>\n",
       "      <td>0.735</td>\n",
       "      <td>-0.069</td>\n",
       "      <td>0.757</td>\n",
       "      <td>0.610</td>\n",
       "      <td>0.179</td>\n",
       "    </tr>\n",
       "    <tr>\n",
       "      <th>1835</th>\n",
       "      <td>Sierra Leone</td>\n",
       "      <td>2023</td>\n",
       "      <td>3.467</td>\n",
       "      <td>7.412</td>\n",
       "      <td>0.601</td>\n",
       "      <td>56.1</td>\n",
       "      <td>0.694</td>\n",
       "      <td>0.101</td>\n",
       "      <td>0.866</td>\n",
       "      <td>0.504</td>\n",
       "      <td>0.430</td>\n",
       "    </tr>\n",
       "    <tr>\n",
       "      <th>472</th>\n",
       "      <td>Congo (Kinshasa)</td>\n",
       "      <td>2023</td>\n",
       "      <td>3.383</td>\n",
       "      <td>7.076</td>\n",
       "      <td>0.572</td>\n",
       "      <td>55.8</td>\n",
       "      <td>0.687</td>\n",
       "      <td>0.152</td>\n",
       "      <td>0.837</td>\n",
       "      <td>0.546</td>\n",
       "      <td>0.497</td>\n",
       "    </tr>\n",
       "    <tr>\n",
       "      <th>258</th>\n",
       "      <td>Botswana</td>\n",
       "      <td>2023</td>\n",
       "      <td>3.332</td>\n",
       "      <td>9.673</td>\n",
       "      <td>0.701</td>\n",
       "      <td>55.0</td>\n",
       "      <td>0.741</td>\n",
       "      <td>-0.264</td>\n",
       "      <td>0.814</td>\n",
       "      <td>0.657</td>\n",
       "      <td>0.247</td>\n",
       "    </tr>\n",
       "    <tr>\n",
       "      <th>1277</th>\n",
       "      <td>Malawi</td>\n",
       "      <td>2023</td>\n",
       "      <td>3.272</td>\n",
       "      <td>7.279</td>\n",
       "      <td>0.470</td>\n",
       "      <td>59.3</td>\n",
       "      <td>0.738</td>\n",
       "      <td>0.014</td>\n",
       "      <td>0.745</td>\n",
       "      <td>0.520</td>\n",
       "      <td>0.338</td>\n",
       "    </tr>\n",
       "  </tbody>\n",
       "</table>\n",
       "<p>120 rows × 11 columns</p>\n",
       "</div>"
      ],
      "text/plain": [
       "          country_name  year  life_ladder  log_gdp_per_capita  social_support  \\\n",
       "680            Finland  2023        7.699              10.808           0.947   \n",
       "886            Iceland  2023        7.562              10.934           0.979   \n",
       "556            Denmark  2023        7.504              10.996           0.916   \n",
       "490         Costa Rica  2023        7.384              10.021           0.875   \n",
       "1498       Netherlands  2023        7.255              10.977           0.915   \n",
       "...                ...   ...          ...                 ...             ...   \n",
       "2362          Zimbabwe  2023        3.572               7.679           0.694   \n",
       "1835      Sierra Leone  2023        3.467               7.412           0.601   \n",
       "472   Congo (Kinshasa)  2023        3.383               7.076           0.572   \n",
       "258           Botswana  2023        3.332               9.673           0.701   \n",
       "1277            Malawi  2023        3.272               7.279           0.470   \n",
       "\n",
       "      healthy_life_expectancy_at_birth  freedom_to_make_life_choices  \\\n",
       "680                               71.3                         0.943   \n",
       "886                               72.1                         0.918   \n",
       "556                               71.5                         0.923   \n",
       "490                               70.0                         0.933   \n",
       "1498                              71.7                         0.847   \n",
       "...                                ...                           ...   \n",
       "2362                              55.0                         0.735   \n",
       "1835                              56.1                         0.694   \n",
       "472                               55.8                         0.687   \n",
       "258                               55.0                         0.741   \n",
       "1277                              59.3                         0.738   \n",
       "\n",
       "      generosity  perceptions_of_corruption  positive_affect  negative_affect  \n",
       "680       -0.001                      0.185            0.717            0.173  \n",
       "886        0.299                      0.697            0.793            0.185  \n",
       "556        0.089                      0.184            0.757            0.229  \n",
       "490       -0.067                      0.767            0.806            0.282  \n",
       "1498       0.223                      0.424            0.693            0.202  \n",
       "...          ...                        ...              ...              ...  \n",
       "2362      -0.069                      0.757            0.610            0.179  \n",
       "1835       0.101                      0.866            0.504            0.430  \n",
       "472        0.152                      0.837            0.546            0.497  \n",
       "258       -0.264                      0.814            0.657            0.247  \n",
       "1277       0.014                      0.745            0.520            0.338  \n",
       "\n",
       "[120 rows x 11 columns]"
      ]
     },
     "execution_count": 23,
     "metadata": {},
     "output_type": "execute_result"
    }
   ],
   "source": [
    "whr_23"
   ]
  },
  {
   "cell_type": "code",
   "execution_count": null,
   "metadata": {},
   "outputs": [],
   "source": []
  },
  {
   "cell_type": "code",
   "execution_count": null,
   "metadata": {},
   "outputs": [],
   "source": []
  },
  {
   "cell_type": "code",
   "execution_count": 25,
   "metadata": {},
   "outputs": [
    {
     "data": {
      "application/vnd.plotly.v1+json": {
       "config": {
        "linkText": "Export to plot.ly",
        "plotlyServerURL": "https://plot.ly",
        "showLink": false
       },
       "data": [
        {
         "colorbar": {
          "title": {
           "text": "Happiness Score"
          }
         },
         "colorscale": [
          [
           0,
           "rgb(165,0,38)"
          ],
          [
           0.1,
           "rgb(215,48,39)"
          ],
          [
           0.2,
           "rgb(244,109,67)"
          ],
          [
           0.3,
           "rgb(253,174,97)"
          ],
          [
           0.4,
           "rgb(254,224,139)"
          ],
          [
           0.5,
           "rgb(255,255,191)"
          ],
          [
           0.6,
           "rgb(217,239,139)"
          ],
          [
           0.7,
           "rgb(166,217,106)"
          ],
          [
           0.8,
           "rgb(102,189,99)"
          ],
          [
           0.9,
           "rgb(26,152,80)"
          ],
          [
           1,
           "rgb(0,104,55)"
          ]
         ],
         "locationmode": "country names",
         "locations": [
          "Finland",
          "Iceland",
          "Denmark",
          "Costa Rica",
          "Netherlands",
          "Norway",
          "Sweden",
          "Australia",
          "Luxembourg",
          "Mexico",
          "New Zealand",
          "Switzerland",
          "Belgium",
          "Canada",
          "Czechia",
          "Ireland",
          "Germany",
          "Israel",
          "Slovenia",
          "Poland",
          "Uruguay",
          "United Kingdom",
          "Austria",
          "France",
          "Brazil",
          "Lithuania",
          "Panama",
          "United States",
          "Romania",
          "El Salvador",
          "Spain",
          "Serbia",
          "Estonia",
          "Guatemala",
          "Argentina",
          "Uzbekistan",
          "Nicaragua",
          "Vietnam",
          "Kazakhstan",
          "Latvia",
          "Thailand",
          "Slovakia",
          "Italy",
          "Chile",
          "Paraguay",
          "Philippines",
          "South Korea",
          "Bosnia and Herzegovina",
          "Hungary",
          "Croatia",
          "Portugal",
          "Peru",
          "Dominican Republic",
          "Kyrgyzstan",
          "Japan",
          "Colombia",
          "Malaysia",
          "Russia",
          "Honduras",
          "Bolivia",
          "Ecuador",
          "Montenegro",
          "Moldova",
          "Greece",
          "Mauritius",
          "Mozambique",
          "Indonesia",
          "Armenia",
          "Bulgaria",
          "Mongolia",
          "Laos",
          "Iraq",
          "Türkiye",
          "Albania",
          "North Macedonia",
          "Nepal",
          "Georgia",
          "Ivory Coast",
          "Azerbaijan",
          "Gabon",
          "Senegal",
          "South Africa",
          "Namibia",
          "Iran",
          "Congo (Brazzaville)",
          "Cameroon",
          "Nigeria",
          "Guinea",
          "Gambia",
          "India",
          "Ukraine",
          "Pakistan",
          "Chad",
          "Tunisia",
          "Kenya",
          "Liberia",
          "Morocco",
          "Uganda",
          "Burkina Faso",
          "Madagascar",
          "Benin",
          "Myanmar",
          "Mali",
          "Togo",
          "Ghana",
          "Jordan",
          "Mauritania",
          "Cambodia",
          "Bangladesh",
          "Ethiopia",
          "Tanzania",
          "Zambia",
          "Sri Lanka",
          "Lebanon",
          "Comoros",
          "Zimbabwe",
          "Sierra Leone",
          "Congo (Kinshasa)",
          "Botswana",
          "Malawi"
         ],
         "text": [
          "Finland",
          "Iceland",
          "Denmark",
          "Costa Rica",
          "Netherlands",
          "Norway",
          "Sweden",
          "Australia",
          "Luxembourg",
          "Mexico",
          "New Zealand",
          "Switzerland",
          "Belgium",
          "Canada",
          "Czechia",
          "Ireland",
          "Germany",
          "Israel",
          "Slovenia",
          "Poland",
          "Uruguay",
          "United Kingdom",
          "Austria",
          "France",
          "Brazil",
          "Lithuania",
          "Panama",
          "United States",
          "Romania",
          "El Salvador",
          "Spain",
          "Serbia",
          "Estonia",
          "Guatemala",
          "Argentina",
          "Uzbekistan",
          "Nicaragua",
          "Vietnam",
          "Kazakhstan",
          "Latvia",
          "Thailand",
          "Slovakia",
          "Italy",
          "Chile",
          "Paraguay",
          "Philippines",
          "South Korea",
          "Bosnia and Herzegovina",
          "Hungary",
          "Croatia",
          "Portugal",
          "Peru",
          "Dominican Republic",
          "Kyrgyzstan",
          "Japan",
          "Colombia",
          "Malaysia",
          "Russia",
          "Honduras",
          "Bolivia",
          "Ecuador",
          "Montenegro",
          "Moldova",
          "Greece",
          "Mauritius",
          "Mozambique",
          "Indonesia",
          "Armenia",
          "Bulgaria",
          "Mongolia",
          "Laos",
          "Iraq",
          "Türkiye",
          "Albania",
          "North Macedonia",
          "Nepal",
          "Georgia",
          "Ivory Coast",
          "Azerbaijan",
          "Gabon",
          "Senegal",
          "South Africa",
          "Namibia",
          "Iran",
          "Congo (Brazzaville)",
          "Cameroon",
          "Nigeria",
          "Guinea",
          "Gambia",
          "India",
          "Ukraine",
          "Pakistan",
          "Chad",
          "Tunisia",
          "Kenya",
          "Liberia",
          "Morocco",
          "Uganda",
          "Burkina Faso",
          "Madagascar",
          "Benin",
          "Myanmar",
          "Mali",
          "Togo",
          "Ghana",
          "Jordan",
          "Mauritania",
          "Cambodia",
          "Bangladesh",
          "Ethiopia",
          "Tanzania",
          "Zambia",
          "Sri Lanka",
          "Lebanon",
          "Comoros",
          "Zimbabwe",
          "Sierra Leone",
          "Congo (Kinshasa)",
          "Botswana",
          "Malawi"
         ],
         "type": "choropleth",
         "z": [
          7.699,
          7.562,
          7.504,
          7.384,
          7.255,
          7.249,
          7.161,
          7.025,
          7.016,
          7.006,
          6.976,
          6.969,
          6.944,
          6.841,
          6.827,
          6.817,
          6.792,
          6.783,
          6.746,
          6.685,
          6.662,
          6.658,
          6.636,
          6.557,
          6.553,
          6.553,
          6.543,
          6.521,
          6.489,
          6.482,
          6.456,
          6.441,
          6.43,
          6.421,
          6.393,
          6.385,
          6.362,
          6.325,
          6.299,
          6.296,
          6.282,
          6.261,
          6.245,
          6.23,
          6.214,
          6.184,
          6.112,
          6.009,
          5.965,
          5.958,
          5.954,
          5.936,
          5.921,
          5.91,
          5.91,
          5.904,
          5.868,
          5.865,
          5.861,
          5.86,
          5.852,
          5.813,
          5.801,
          5.796,
          5.759,
          5.704,
          5.695,
          5.679,
          5.59,
          5.58,
          5.486,
          5.475,
          5.463,
          5.445,
          5.403,
          5.389,
          5.351,
          5.337,
          5.214,
          5.104,
          5.093,
          5.076,
          5.055,
          5.004,
          4.954,
          4.946,
          4.869,
          4.827,
          4.691,
          4.676,
          4.672,
          4.549,
          4.544,
          4.505,
          4.496,
          4.494,
          4.487,
          4.467,
          4.462,
          4.433,
          4.42,
          4.391,
          4.37,
          4.365,
          4.298,
          4.292,
          4.292,
          4.221,
          4.114,
          4.093,
          4.042,
          3.686,
          3.602,
          3.588,
          3.588,
          3.572,
          3.467,
          3.383,
          3.332,
          3.272
         ]
        }
       ],
       "layout": {
        "geo": {
         "projection": {
          "type": "azimuthal equal area"
         },
         "showframe": true
        },
        "height": 600,
        "margin": {
         "b": 50,
         "l": 50,
         "r": 50,
         "t": 50
        },
        "template": {
         "data": {
          "bar": [
           {
            "error_x": {
             "color": "#2a3f5f"
            },
            "error_y": {
             "color": "#2a3f5f"
            },
            "marker": {
             "line": {
              "color": "#E5ECF6",
              "width": 0.5
             },
             "pattern": {
              "fillmode": "overlay",
              "size": 10,
              "solidity": 0.2
             }
            },
            "type": "bar"
           }
          ],
          "barpolar": [
           {
            "marker": {
             "line": {
              "color": "#E5ECF6",
              "width": 0.5
             },
             "pattern": {
              "fillmode": "overlay",
              "size": 10,
              "solidity": 0.2
             }
            },
            "type": "barpolar"
           }
          ],
          "carpet": [
           {
            "aaxis": {
             "endlinecolor": "#2a3f5f",
             "gridcolor": "white",
             "linecolor": "white",
             "minorgridcolor": "white",
             "startlinecolor": "#2a3f5f"
            },
            "baxis": {
             "endlinecolor": "#2a3f5f",
             "gridcolor": "white",
             "linecolor": "white",
             "minorgridcolor": "white",
             "startlinecolor": "#2a3f5f"
            },
            "type": "carpet"
           }
          ],
          "choropleth": [
           {
            "colorbar": {
             "outlinewidth": 0,
             "ticks": ""
            },
            "type": "choropleth"
           }
          ],
          "contour": [
           {
            "colorbar": {
             "outlinewidth": 0,
             "ticks": ""
            },
            "colorscale": [
             [
              0,
              "#0d0887"
             ],
             [
              0.1111111111111111,
              "#46039f"
             ],
             [
              0.2222222222222222,
              "#7201a8"
             ],
             [
              0.3333333333333333,
              "#9c179e"
             ],
             [
              0.4444444444444444,
              "#bd3786"
             ],
             [
              0.5555555555555556,
              "#d8576b"
             ],
             [
              0.6666666666666666,
              "#ed7953"
             ],
             [
              0.7777777777777778,
              "#fb9f3a"
             ],
             [
              0.8888888888888888,
              "#fdca26"
             ],
             [
              1,
              "#f0f921"
             ]
            ],
            "type": "contour"
           }
          ],
          "contourcarpet": [
           {
            "colorbar": {
             "outlinewidth": 0,
             "ticks": ""
            },
            "type": "contourcarpet"
           }
          ],
          "heatmap": [
           {
            "colorbar": {
             "outlinewidth": 0,
             "ticks": ""
            },
            "colorscale": [
             [
              0,
              "#0d0887"
             ],
             [
              0.1111111111111111,
              "#46039f"
             ],
             [
              0.2222222222222222,
              "#7201a8"
             ],
             [
              0.3333333333333333,
              "#9c179e"
             ],
             [
              0.4444444444444444,
              "#bd3786"
             ],
             [
              0.5555555555555556,
              "#d8576b"
             ],
             [
              0.6666666666666666,
              "#ed7953"
             ],
             [
              0.7777777777777778,
              "#fb9f3a"
             ],
             [
              0.8888888888888888,
              "#fdca26"
             ],
             [
              1,
              "#f0f921"
             ]
            ],
            "type": "heatmap"
           }
          ],
          "heatmapgl": [
           {
            "colorbar": {
             "outlinewidth": 0,
             "ticks": ""
            },
            "colorscale": [
             [
              0,
              "#0d0887"
             ],
             [
              0.1111111111111111,
              "#46039f"
             ],
             [
              0.2222222222222222,
              "#7201a8"
             ],
             [
              0.3333333333333333,
              "#9c179e"
             ],
             [
              0.4444444444444444,
              "#bd3786"
             ],
             [
              0.5555555555555556,
              "#d8576b"
             ],
             [
              0.6666666666666666,
              "#ed7953"
             ],
             [
              0.7777777777777778,
              "#fb9f3a"
             ],
             [
              0.8888888888888888,
              "#fdca26"
             ],
             [
              1,
              "#f0f921"
             ]
            ],
            "type": "heatmapgl"
           }
          ],
          "histogram": [
           {
            "marker": {
             "pattern": {
              "fillmode": "overlay",
              "size": 10,
              "solidity": 0.2
             }
            },
            "type": "histogram"
           }
          ],
          "histogram2d": [
           {
            "colorbar": {
             "outlinewidth": 0,
             "ticks": ""
            },
            "colorscale": [
             [
              0,
              "#0d0887"
             ],
             [
              0.1111111111111111,
              "#46039f"
             ],
             [
              0.2222222222222222,
              "#7201a8"
             ],
             [
              0.3333333333333333,
              "#9c179e"
             ],
             [
              0.4444444444444444,
              "#bd3786"
             ],
             [
              0.5555555555555556,
              "#d8576b"
             ],
             [
              0.6666666666666666,
              "#ed7953"
             ],
             [
              0.7777777777777778,
              "#fb9f3a"
             ],
             [
              0.8888888888888888,
              "#fdca26"
             ],
             [
              1,
              "#f0f921"
             ]
            ],
            "type": "histogram2d"
           }
          ],
          "histogram2dcontour": [
           {
            "colorbar": {
             "outlinewidth": 0,
             "ticks": ""
            },
            "colorscale": [
             [
              0,
              "#0d0887"
             ],
             [
              0.1111111111111111,
              "#46039f"
             ],
             [
              0.2222222222222222,
              "#7201a8"
             ],
             [
              0.3333333333333333,
              "#9c179e"
             ],
             [
              0.4444444444444444,
              "#bd3786"
             ],
             [
              0.5555555555555556,
              "#d8576b"
             ],
             [
              0.6666666666666666,
              "#ed7953"
             ],
             [
              0.7777777777777778,
              "#fb9f3a"
             ],
             [
              0.8888888888888888,
              "#fdca26"
             ],
             [
              1,
              "#f0f921"
             ]
            ],
            "type": "histogram2dcontour"
           }
          ],
          "mesh3d": [
           {
            "colorbar": {
             "outlinewidth": 0,
             "ticks": ""
            },
            "type": "mesh3d"
           }
          ],
          "parcoords": [
           {
            "line": {
             "colorbar": {
              "outlinewidth": 0,
              "ticks": ""
             }
            },
            "type": "parcoords"
           }
          ],
          "pie": [
           {
            "automargin": true,
            "type": "pie"
           }
          ],
          "scatter": [
           {
            "fillpattern": {
             "fillmode": "overlay",
             "size": 10,
             "solidity": 0.2
            },
            "type": "scatter"
           }
          ],
          "scatter3d": [
           {
            "line": {
             "colorbar": {
              "outlinewidth": 0,
              "ticks": ""
             }
            },
            "marker": {
             "colorbar": {
              "outlinewidth": 0,
              "ticks": ""
             }
            },
            "type": "scatter3d"
           }
          ],
          "scattercarpet": [
           {
            "marker": {
             "colorbar": {
              "outlinewidth": 0,
              "ticks": ""
             }
            },
            "type": "scattercarpet"
           }
          ],
          "scattergeo": [
           {
            "marker": {
             "colorbar": {
              "outlinewidth": 0,
              "ticks": ""
             }
            },
            "type": "scattergeo"
           }
          ],
          "scattergl": [
           {
            "marker": {
             "colorbar": {
              "outlinewidth": 0,
              "ticks": ""
             }
            },
            "type": "scattergl"
           }
          ],
          "scattermapbox": [
           {
            "marker": {
             "colorbar": {
              "outlinewidth": 0,
              "ticks": ""
             }
            },
            "type": "scattermapbox"
           }
          ],
          "scatterpolar": [
           {
            "marker": {
             "colorbar": {
              "outlinewidth": 0,
              "ticks": ""
             }
            },
            "type": "scatterpolar"
           }
          ],
          "scatterpolargl": [
           {
            "marker": {
             "colorbar": {
              "outlinewidth": 0,
              "ticks": ""
             }
            },
            "type": "scatterpolargl"
           }
          ],
          "scatterternary": [
           {
            "marker": {
             "colorbar": {
              "outlinewidth": 0,
              "ticks": ""
             }
            },
            "type": "scatterternary"
           }
          ],
          "surface": [
           {
            "colorbar": {
             "outlinewidth": 0,
             "ticks": ""
            },
            "colorscale": [
             [
              0,
              "#0d0887"
             ],
             [
              0.1111111111111111,
              "#46039f"
             ],
             [
              0.2222222222222222,
              "#7201a8"
             ],
             [
              0.3333333333333333,
              "#9c179e"
             ],
             [
              0.4444444444444444,
              "#bd3786"
             ],
             [
              0.5555555555555556,
              "#d8576b"
             ],
             [
              0.6666666666666666,
              "#ed7953"
             ],
             [
              0.7777777777777778,
              "#fb9f3a"
             ],
             [
              0.8888888888888888,
              "#fdca26"
             ],
             [
              1,
              "#f0f921"
             ]
            ],
            "type": "surface"
           }
          ],
          "table": [
           {
            "cells": {
             "fill": {
              "color": "#EBF0F8"
             },
             "line": {
              "color": "white"
             }
            },
            "header": {
             "fill": {
              "color": "#C8D4E3"
             },
             "line": {
              "color": "white"
             }
            },
            "type": "table"
           }
          ]
         },
         "layout": {
          "annotationdefaults": {
           "arrowcolor": "#2a3f5f",
           "arrowhead": 0,
           "arrowwidth": 1
          },
          "autotypenumbers": "strict",
          "coloraxis": {
           "colorbar": {
            "outlinewidth": 0,
            "ticks": ""
           }
          },
          "colorscale": {
           "diverging": [
            [
             0,
             "#8e0152"
            ],
            [
             0.1,
             "#c51b7d"
            ],
            [
             0.2,
             "#de77ae"
            ],
            [
             0.3,
             "#f1b6da"
            ],
            [
             0.4,
             "#fde0ef"
            ],
            [
             0.5,
             "#f7f7f7"
            ],
            [
             0.6,
             "#e6f5d0"
            ],
            [
             0.7,
             "#b8e186"
            ],
            [
             0.8,
             "#7fbc41"
            ],
            [
             0.9,
             "#4d9221"
            ],
            [
             1,
             "#276419"
            ]
           ],
           "sequential": [
            [
             0,
             "#0d0887"
            ],
            [
             0.1111111111111111,
             "#46039f"
            ],
            [
             0.2222222222222222,
             "#7201a8"
            ],
            [
             0.3333333333333333,
             "#9c179e"
            ],
            [
             0.4444444444444444,
             "#bd3786"
            ],
            [
             0.5555555555555556,
             "#d8576b"
            ],
            [
             0.6666666666666666,
             "#ed7953"
            ],
            [
             0.7777777777777778,
             "#fb9f3a"
            ],
            [
             0.8888888888888888,
             "#fdca26"
            ],
            [
             1,
             "#f0f921"
            ]
           ],
           "sequentialminus": [
            [
             0,
             "#0d0887"
            ],
            [
             0.1111111111111111,
             "#46039f"
            ],
            [
             0.2222222222222222,
             "#7201a8"
            ],
            [
             0.3333333333333333,
             "#9c179e"
            ],
            [
             0.4444444444444444,
             "#bd3786"
            ],
            [
             0.5555555555555556,
             "#d8576b"
            ],
            [
             0.6666666666666666,
             "#ed7953"
            ],
            [
             0.7777777777777778,
             "#fb9f3a"
            ],
            [
             0.8888888888888888,
             "#fdca26"
            ],
            [
             1,
             "#f0f921"
            ]
           ]
          },
          "colorway": [
           "#636efa",
           "#EF553B",
           "#00cc96",
           "#ab63fa",
           "#FFA15A",
           "#19d3f3",
           "#FF6692",
           "#B6E880",
           "#FF97FF",
           "#FECB52"
          ],
          "font": {
           "color": "#2a3f5f"
          },
          "geo": {
           "bgcolor": "white",
           "lakecolor": "white",
           "landcolor": "#E5ECF6",
           "showlakes": true,
           "showland": true,
           "subunitcolor": "white"
          },
          "hoverlabel": {
           "align": "left"
          },
          "hovermode": "closest",
          "mapbox": {
           "style": "light"
          },
          "paper_bgcolor": "white",
          "plot_bgcolor": "#E5ECF6",
          "polar": {
           "angularaxis": {
            "gridcolor": "white",
            "linecolor": "white",
            "ticks": ""
           },
           "bgcolor": "#E5ECF6",
           "radialaxis": {
            "gridcolor": "white",
            "linecolor": "white",
            "ticks": ""
           }
          },
          "scene": {
           "xaxis": {
            "backgroundcolor": "#E5ECF6",
            "gridcolor": "white",
            "gridwidth": 2,
            "linecolor": "white",
            "showbackground": true,
            "ticks": "",
            "zerolinecolor": "white"
           },
           "yaxis": {
            "backgroundcolor": "#E5ECF6",
            "gridcolor": "white",
            "gridwidth": 2,
            "linecolor": "white",
            "showbackground": true,
            "ticks": "",
            "zerolinecolor": "white"
           },
           "zaxis": {
            "backgroundcolor": "#E5ECF6",
            "gridcolor": "white",
            "gridwidth": 2,
            "linecolor": "white",
            "showbackground": true,
            "ticks": "",
            "zerolinecolor": "white"
           }
          },
          "shapedefaults": {
           "line": {
            "color": "#2a3f5f"
           }
          },
          "ternary": {
           "aaxis": {
            "gridcolor": "white",
            "linecolor": "white",
            "ticks": ""
           },
           "baxis": {
            "gridcolor": "white",
            "linecolor": "white",
            "ticks": ""
           },
           "bgcolor": "#E5ECF6",
           "caxis": {
            "gridcolor": "white",
            "linecolor": "white",
            "ticks": ""
           }
          },
          "title": {
           "x": 0.05
          },
          "xaxis": {
           "automargin": true,
           "gridcolor": "white",
           "linecolor": "white",
           "ticks": "",
           "title": {
            "standoff": 15
           },
           "zerolinecolor": "white",
           "zerolinewidth": 2
          },
          "yaxis": {
           "automargin": true,
           "gridcolor": "white",
           "linecolor": "white",
           "ticks": "",
           "title": {
            "standoff": 15
           },
           "zerolinecolor": "white",
           "zerolinewidth": 2
          }
         }
        },
        "title": {
         "text": "Geographical Visualization of Happiness Score"
        },
        "width": 1000
       }
      }
     },
     "metadata": {},
     "output_type": "display_data"
    }
   ],
   "source": [
    "\n",
    "\n",
    "\n",
    "data = dict(type = 'choropleth', \n",
    "           locations = whr_23['country_name'],\n",
    "           locationmode = 'country names',\n",
    "           colorscale='RdYlGn',\n",
    "           z = whr_23['life_ladder'], \n",
    "           text = whr_23['country_name'],\n",
    "           colorbar = {'title':'Happiness Score'})\n",
    "\n",
    "layout = dict(title = 'Geographical Visualization of Happiness Score', \n",
    "              geo = dict(showframe = True, projection = {'type': 'azimuthal equal area'}),\n",
    "              margin=dict(l=50,r=50,t=50,b=50),\n",
    "              width=1000,\n",
    "              height=600)\n",
    "              \n",
    "              \n",
    "              \n",
    "\n",
    "choromap3 = go.Figure(data = [data], layout=layout)\n",
    "iplot(choromap3)"
   ]
  },
  {
   "cell_type": "code",
   "execution_count": null,
   "metadata": {},
   "outputs": [],
   "source": []
  },
  {
   "cell_type": "code",
   "execution_count": null,
   "metadata": {},
   "outputs": [],
   "source": []
  },
  {
   "cell_type": "code",
   "execution_count": null,
   "metadata": {},
   "outputs": [],
   "source": []
  },
  {
   "cell_type": "code",
   "execution_count": null,
   "metadata": {},
   "outputs": [],
   "source": []
  }
 ],
 "metadata": {
  "kernelspec": {
   "display_name": "dev",
   "language": "python",
   "name": "python3"
  },
  "language_info": {
   "codemirror_mode": {
    "name": "ipython",
    "version": 3
   },
   "file_extension": ".py",
   "mimetype": "text/x-python",
   "name": "python",
   "nbconvert_exporter": "python",
   "pygments_lexer": "ipython3",
   "version": "3.10.14"
  }
 },
 "nbformat": 4,
 "nbformat_minor": 2
}
