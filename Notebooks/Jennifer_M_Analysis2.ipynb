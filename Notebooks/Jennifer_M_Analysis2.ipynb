{
 "cells": [
  {
   "cell_type": "code",
   "execution_count": 58,
   "metadata": {},
   "outputs": [],
   "source": [
    "import pandas as pd\n",
    "import numpy as np\n",
    "import matplotlib.pyplot as plt\n",
    "import requests\n",
    "import json\n",
    "from config import api_key"
   ]
  },
  {
   "cell_type": "code",
   "execution_count": 59,
   "metadata": {},
   "outputs": [],
   "source": [
    "url = \"https://api.api-ninjas.com/v1/country\""
   ]
  },
  {
   "cell_type": "code",
   "execution_count": 60,
   "metadata": {},
   "outputs": [
    {
     "data": {
      "text/plain": [
       "[{'gdp': 20580223.0,\n",
       "  'sex_ratio': 97.9,\n",
       "  'surface_area': 9833517.0,\n",
       "  'life_expectancy_male': 76.3,\n",
       "  'unemployment': 3.9,\n",
       "  'imports': 2567490.0,\n",
       "  'homicide_rate': 5.0,\n",
       "  'currency': {'code': 'USD', 'name': 'Us Dollar'},\n",
       "  'iso2': 'US',\n",
       "  'employment_services': 79.0,\n",
       "  'employment_industry': 19.7,\n",
       "  'urban_population_growth': 0.9,\n",
       "  'secondary_school_enrollment_female': 98.7,\n",
       "  'employment_agriculture': 1.3,\n",
       "  'capital': 'Washington, D.C.',\n",
       "  'co2_emissions': 4761.3,\n",
       "  'forested_area': 33.9,\n",
       "  'tourists': 79746.0,\n",
       "  'exports': 1644280.0,\n",
       "  'life_expectancy_female': 81.3,\n",
       "  'post_secondary_enrollment_female': 102.0,\n",
       "  'post_secondary_enrollment_male': 75.0,\n",
       "  'primary_school_enrollment_female': 101.4,\n",
       "  'infant_mortality': 5.8,\n",
       "  'gdp_growth': 2.9,\n",
       "  'threatened_species': 1655.0,\n",
       "  'population': 331003.0,\n",
       "  'urban_population': 82.5,\n",
       "  'secondary_school_enrollment_male': 99.2,\n",
       "  'name': 'United States',\n",
       "  'pop_growth': 0.6,\n",
       "  'region': 'Northern America',\n",
       "  'pop_density': 36.2,\n",
       "  'internet_users': 87.3,\n",
       "  'gdp_per_capita': 62917.9,\n",
       "  'fertility': 1.8,\n",
       "  'refugees': 1043.2,\n",
       "  'primary_school_enrollment_male': 102.2}]"
      ]
     },
     "execution_count": 60,
     "metadata": {},
     "output_type": "execute_result"
    }
   ],
   "source": [
    "response= requests.get(url, headers={'X-Api-Key': api_key}, params={'name': 'US'}).json()\n",
    "response"
   ]
  },
  {
   "cell_type": "code",
   "execution_count": 61,
   "metadata": {},
   "outputs": [],
   "source": [
    "countries = ['US', 'CA', 'GB', 'KOR', 'DEU', 'JP', 'EE', 'FI', 'FRA', 'MEX']\n",
    "GDP1 = []\n",
    "CN = []\n",
    "UE = []\n",
    "for country in countries:\n",
    "    try:\n",
    "        response = requests.get(url, headers={'X-Api-Key': api_key}, params={'name': country})\n",
    "        \n",
    "        if response.status_code == 200:\n",
    "            data = response.json()\n",
    "            GDP1.append(data[0][\"gdp_per_capita\"])\n",
    "            CN.append(data[0][\"iso2\"])\n",
    "            UE.append(data[0][\"unemployment\"])\n",
    "\n",
    "        else:\n",
    "            print(f\"Failed to retrieve data for {country}. Status Code: {response.status_code}\")\n",
    "    \n",
    "    except requests.exceptions.RequestException as e:\n",
    "        print(f\"An error occurred: {e}\")"
   ]
  },
  {
   "cell_type": "code",
   "execution_count": 62,
   "metadata": {},
   "outputs": [],
   "source": [
    "ll = [6.521, 6.841, 6.658, 6.112, 6.792, 5.910, 6.430, 7.699, 6.557, 7.006]"
   ]
  },
  {
   "cell_type": "code",
   "execution_count": 63,
   "metadata": {},
   "outputs": [
    {
     "data": {
      "text/html": [
       "<div>\n",
       "<style scoped>\n",
       "    .dataframe tbody tr th:only-of-type {\n",
       "        vertical-align: middle;\n",
       "    }\n",
       "\n",
       "    .dataframe tbody tr th {\n",
       "        vertical-align: top;\n",
       "    }\n",
       "\n",
       "    .dataframe thead th {\n",
       "        text-align: right;\n",
       "    }\n",
       "</style>\n",
       "<table border=\"1\" class=\"dataframe\">\n",
       "  <thead>\n",
       "    <tr style=\"text-align: right;\">\n",
       "      <th></th>\n",
       "      <th>country</th>\n",
       "      <th>gdp</th>\n",
       "      <th>unemployment_rate</th>\n",
       "      <th>life_ladder</th>\n",
       "    </tr>\n",
       "  </thead>\n",
       "  <tbody>\n",
       "    <tr>\n",
       "      <th>0</th>\n",
       "      <td>US</td>\n",
       "      <td>62917.9</td>\n",
       "      <td>3.9</td>\n",
       "      <td>6.521</td>\n",
       "    </tr>\n",
       "    <tr>\n",
       "      <th>1</th>\n",
       "      <td>CA</td>\n",
       "      <td>46192.4</td>\n",
       "      <td>5.4</td>\n",
       "      <td>6.841</td>\n",
       "    </tr>\n",
       "    <tr>\n",
       "      <th>2</th>\n",
       "      <td>GB</td>\n",
       "      <td>42526.4</td>\n",
       "      <td>4.1</td>\n",
       "      <td>6.658</td>\n",
       "    </tr>\n",
       "    <tr>\n",
       "      <th>3</th>\n",
       "      <td>KR</td>\n",
       "      <td>33621.9</td>\n",
       "      <td>4.6</td>\n",
       "      <td>6.112</td>\n",
       "    </tr>\n",
       "    <tr>\n",
       "      <th>4</th>\n",
       "      <td>DE</td>\n",
       "      <td>47513.7</td>\n",
       "      <td>3.0</td>\n",
       "      <td>6.792</td>\n",
       "    </tr>\n",
       "    <tr>\n",
       "      <th>5</th>\n",
       "      <td>JP</td>\n",
       "      <td>39082.1</td>\n",
       "      <td>2.3</td>\n",
       "      <td>5.910</td>\n",
       "    </tr>\n",
       "    <tr>\n",
       "      <th>6</th>\n",
       "      <td>EE</td>\n",
       "      <td>23241.9</td>\n",
       "      <td>5.4</td>\n",
       "      <td>6.430</td>\n",
       "    </tr>\n",
       "    <tr>\n",
       "      <th>7</th>\n",
       "      <td>FI</td>\n",
       "      <td>50135.7</td>\n",
       "      <td>6.7</td>\n",
       "      <td>7.699</td>\n",
       "    </tr>\n",
       "    <tr>\n",
       "      <th>8</th>\n",
       "      <td>FR</td>\n",
       "      <td>41358.1</td>\n",
       "      <td>8.3</td>\n",
       "      <td>6.557</td>\n",
       "    </tr>\n",
       "    <tr>\n",
       "      <th>9</th>\n",
       "      <td>MX</td>\n",
       "      <td>9694.9</td>\n",
       "      <td>3.6</td>\n",
       "      <td>7.006</td>\n",
       "    </tr>\n",
       "  </tbody>\n",
       "</table>\n",
       "</div>"
      ],
      "text/plain": [
       "  country      gdp  unemployment_rate  life_ladder\n",
       "0      US  62917.9                3.9        6.521\n",
       "1      CA  46192.4                5.4        6.841\n",
       "2      GB  42526.4                4.1        6.658\n",
       "3      KR  33621.9                4.6        6.112\n",
       "4      DE  47513.7                3.0        6.792\n",
       "5      JP  39082.1                2.3        5.910\n",
       "6      EE  23241.9                5.4        6.430\n",
       "7      FI  50135.7                6.7        7.699\n",
       "8      FR  41358.1                8.3        6.557\n",
       "9      MX   9694.9                3.6        7.006"
      ]
     },
     "execution_count": 63,
     "metadata": {},
     "output_type": "execute_result"
    }
   ],
   "source": [
    "df = pd.DataFrame({\"country\": CN,\n",
    "                   \"gdp\": GDP1,\n",
    "                   \"unemployment_rate\": UE,\n",
    "                   \"life_ladder\": ll})\n",
    "\n",
    "df "
   ]
  },
  {
   "cell_type": "code",
   "execution_count": 64,
   "metadata": {},
   "outputs": [
    {
     "data": {
      "image/png": "[encoded data removed]",
      "text/plain": [
       "<Figure size 640x480 with 1 Axes>"
      ]
     },
     "metadata": {},
     "output_type": "display_data"
    }
   ],
   "source": [
    "\n",
    "country_colors = { 'US': 'blue', 'CA': 'red', 'GB': 'green', 'KR': 'orange', 'DE': 'purple', 'JP': 'brown', 'EE': 'pink', 'FI': 'cyan', 'FR': 'yellow', 'MX': 'magenta'}\n",
    "colors = df['country'].map(country_colors)\n",
    "sizes = df['unemployment_rate']*30\n",
    "ax1 = df.plot.scatter(x= \"gdp\", y = \"life_ladder\", color= colors, s = sizes)\n",
    "handles = [plt.Line2D([0], [0], marker='o', color='w', label=country, markersize=10, markerfacecolor=color) \n",
    "           for country, color in country_colors.items()]\n",
    "y = df[\"life_ladder\"]\n",
    "x= df[\"gdp\"]\n",
    "for i, label in enumerate(countries):\n",
    "    plt.annotate(label, (x[i], y[i]))\n",
    "plt.title(\"GDP and Unemployment Rate vs. Happiness Levels\")\n",
    "plt.xlabel(\"GDP\")\n",
    "plt.ylabel(\"Life Ladder\")\n",
    "plt.grid(True)\n",
    "plt.savefig(\"GDP and Unemployment Rate vs. Happiness Levels.png\")\n",
    "plt.show()"
   ]
  }
 ],
 "metadata": {
  "kernelspec": {
   "display_name": "base",
   "language": "python",
   "name": "python3"
  },
  "language_info": {
   "codemirror_mode": {
    "name": "ipython",
    "version": 3
   },
   "file_extension": ".py",
   "mimetype": "text/x-python",
   "name": "python",
   "nbconvert_exporter": "python",
   "pygments_lexer": "ipython3",
   "version": "3.12.4"
  }
 },
 "nbformat": 4,
 "nbformat_minor": 2
}
