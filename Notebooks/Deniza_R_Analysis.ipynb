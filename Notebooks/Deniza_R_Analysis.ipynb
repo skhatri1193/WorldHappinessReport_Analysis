{
 "cells": [
  {
   "cell_type": "code",
   "execution_count": null,
   "id": "a6f67432",
   "metadata": {},
   "outputs": [],
   "source": [
    "#Dependencies and Setup\n",
    "from pathlib import Path\n",
    "import pandas as pd\n",
    "import numpy as np\n",
    "import matplotlib.pyplot as plt\n",
    "import scipy.stats as st\n",
    "import json\n",
    "import plotly.express as px\n",
    "pd.options.display.max_columns = 100"
   ]
  },
  {
   "cell_type": "code",
   "execution_count": null,
   "id": "88c1254f",
   "metadata": {},
   "outputs": [],
   "source": [
    "#Study data files \n",
    "whr_original_data = \"/Users/denizarobinson/Desktop/team5-project1/whr_original.csv\"\n",
    "popdata_23_data = \"/Users/denizarobinson/Desktop/team5-project1/popdata_23.csv\"\n",
    "# Read the mouse data and the study results\n",
    "whr_original = pd.read_csv(whr_original_data,encoding=\"iso-8859-1\")"
   ]
  },
  {
   "cell_type": "code",
   "execution_count": null,
   "id": "590073ba",
   "metadata": {},
   "outputs": [],
   "source": [
    "popdata_23 = pd.read_csv(popdata_23_data,encoding=\"iso-8859-1\")  "
   ]
  },
  {
   "cell_type": "markdown",
   "id": "38991494",
   "metadata": {},
   "source": [
    "# World MAP HAPPINESS VS NOT HAPPINESS PART 1 And Population Map"
   ]
  },
  {
   "cell_type": "code",
   "execution_count": null,
   "id": "2844ac08-160b-4920-82c0-a794e120cf98",
   "metadata": {},
   "outputs": [],
   "source": [
    "#Desktop/team5-project1/countries.geojson\n",
    "with open(\"/Users/denizarobinson/Desktop/team5-project1/countries.geojson\") as f:\n",
    "    country_map = json.load(f)"
   ]
  },
  {
   "cell_type": "code",
   "execution_count": null,
   "id": "af68af3a-8cc0-4a9d-879a-35c7cb2a48d0",
   "metadata": {
    "tags": []
   },
   "outputs": [],
   "source": [
    "country_map['features'][238]"
   ]
  },
  {
   "cell_type": "code",
   "execution_count": null,
   "id": "875cb4d0-bfb1-4f11-92dd-61d3f4253f52",
   "metadata": {
    "tags": []
   },
   "outputs": [],
   "source": [
    "country_names = [feature['properties']['ADMIN'] for feature in country_map['features']]\n",
    "country_names = list(set(country_names))\n",
    "country_names"
   ]
  },
  {
   "cell_type": "code",
   "execution_count": null,
   "id": "e366982e-25ec-4ceb-9c10-36dc784230d5",
   "metadata": {},
   "outputs": [],
   "source": [
    "whr_original = pd.read_csv(whr_original_data,encoding=\"iso-8859-1\")\n",
    "whr_filtered = whr_original.iloc[:,[0,1,2]].query('year == 2023').reset_index(drop = True)\n",
    "whr_filtered = whr_filtered.rename(columns = {\"ï»¿Country name\":\"Country\"})\n",
    "whr_filtered"
   ]
  },
  {
   "cell_type": "code",
   "execution_count": null,
   "id": "a5e3bcd2-a24f-4baf-915a-86d2854c1498",
   "metadata": {},
   "outputs": [],
   "source": [
    "popdata_23 = pd.read_csv(popdata_23_data,encoding=\"iso-8859-1\")\n",
    "popdata_23 = pd.DataFrame(popdata_23)\n",
    "popdata_23"
   ]
  },
  {
   "cell_type": "code",
   "execution_count": null,
   "id": "dbc1db7d-7ebc-40cf-aba5-cb856042a831",
   "metadata": {},
   "outputs": [],
   "source": [
    "popdata_filtered = popdata_23.loc[:,[\"Country\",\"Population\"]]\n",
    "popdata_filtered"
   ]
  },
  {
   "cell_type": "code",
   "execution_count": null,
   "id": "65570f33-e39d-442a-b62f-d2e07f355f37",
   "metadata": {},
   "outputs": [],
   "source": [
    "merge_df = pd.merge(whr_filtered, popdata_filtered, how = 'right', on = 'Country' ).dropna()\n",
    "merge_df"
   ]
  },
  {
   "cell_type": "code",
   "execution_count": null,
   "id": "769466fe-7a92-420d-911a-afc1600be4b8",
   "metadata": {},
   "outputs": [],
   "source": [
    "merge_df[\"Country\"]"
   ]
  },
  {
   "cell_type": "code",
   "execution_count": null,
   "id": "492c41d9",
   "metadata": {},
   "outputs": [],
   "source": [
    "type(popdata_23)"
   ]
  },
  {
   "cell_type": "code",
   "execution_count": null,
   "id": "96b73702-5b9e-49a9-a18c-049b815542a7",
   "metadata": {},
   "outputs": [],
   "source": [
    "plot_df = pd.DataFrame()\n",
    "plot_df['Country'] = popdata_23[\"Country\"]\n",
    "plot_df['Population'] = popdata_23['Population']\n",
    "plot_df['Population'] = plot_df['Population'].str.replace(',', '').astype(int)\n",
    "plot_df['Country'] = plot_df['Country'].replace('Czech Republic (Czechia)', 'Czech Republic')\n",
    "plot_df['Country'] = plot_df['Country'].replace('Serbia', 'Republic of Serbia')\n",
    "plot_df['Country'] = plot_df['Country'].replace('United States', 'United States of America')\n",
    "plot_df['Country'] = plot_df['Country'].replace('DR Congo', 'Democratic Republic of the Congo')\n",
    "plot_df['Country'] = plot_df['Country'].replace('Congo', 'Republic of Congo')\n",
    "plot_df['Country'] = plot_df['Country'].replace(\"Côte d'Ivoire\", 'Ivory Coast')\n",
    "plot_df['Country'] = plot_df['Country'].replace('Tanzania', 'United Republic of Tanzania')\n",
    "plot_df['Country'] = plot_df['Country'].replace('North Macedonia', 'Macedonia')\n",
    "plot_df['Country'] = plot_df['Country'].replace('Guinea-Bissau', 'Guinea Bissau')\n",
    "\n",
    "\n",
    "'''\n",
    "#whr_original['Country'] = whr_filtered['Country'].replace({\n",
    "    'Czech Republic (Czechia)': 'Czech Republic',\n",
    "    'Serbia': 'Republic of Serbia',\n",
    "    'United States': 'United States of America',\n",
    "    'DR Congo': 'Democratic Republic of the Congo',\n",
    "    'Congo': 'Republic of Congo',\n",
    "    \"Côte d'Ivoire\": 'Ivory Coast',\n",
    "    'Tanzania': 'United Republic of Tanzania',\n",
    "    'North Macedonia': 'Macedonia',\n",
    "    'Guinea-Bissau': 'Guinea Bissau'\n",
    "})\n",
    "'''"
   ]
  },
  {
   "cell_type": "code",
   "execution_count": null,
   "id": "343310a9-9043-4859-bd61-b1b87837b93d",
   "metadata": {},
   "outputs": [],
   "source": [
    "fig = px.choropleth(\n",
    "    plot_df,\n",
    "    geojson=country_map,\n",
    "    locations='Country', \n",
    "    featureidkey=\"properties.ADMIN\",\n",
    "    color='Population',  # Change to Life Ladder\n",
    "    hover_name='Country',  \n",
    "    color_continuous_scale=px.colors.sequential.RdBu,  \n",
    "    projection=\"natural earth\",  \n",
    "    title=\"World Population Map\",\n",
    "    width=1000,\n",
    "    height=800 \n",
    ")\n",
    "\n",
    "fig.update_layout(\n",
    "    geo=dict(\n",
    "        showcoastlines=True, coastlinecolor=\"Black\",\n",
    "        showland=True, landcolor=\"white\",\n",
    "        showocean=True, oceancolor=\"LightBlue\",\n",
    "        showlakes=True, lakecolor=\"LightBlue\",\n",
    "        showrivers=True, rivercolor=\"Blue\"\n",
    "    ),\n",
    "    coloraxis_colorbar=dict(\n",
    "        title=\"Population\",\n",
    "        tickvals=[plot_df['Population'].min(), plot_df['Population'].max()],\n",
    "        ticktext=[f\"{plot_df['Population'].min():.2f}\", f\"{plot_df['Population'].max():.2f}\"],\n",
    "        lenmode=\"fraction\",\n",
    "        len=0.8,\n",
    "        xanchor=\"right\",\n",
    "        x=1.35  \n",
    "    )\n",
    ")\n",
    "\n",
    "fig.show()\n"
   ]
  },
  {
   "cell_type": "code",
   "execution_count": null,
   "id": "ca12c678",
   "metadata": {},
   "outputs": [],
   "source": [
    "merge_df['Country'] = merge_df['Country'].replace('Czech Republic (Czechia)', 'Czech Republic')\n",
    "merge_df['Country'] = merge_df['Country'].replace('Serbia', 'Republic of Serbia')\n",
    "merge_df['Country'] = merge_df['Country'].replace('United States', 'United States of America')\n",
    "merge_df['Country'] = merge_df['Country'].replace('DR Congo', 'Democratic Republic of the Congo')\n",
    "merge_df['Country'] = merge_df['Country'].replace('Congo', 'Republic of Congo')\n",
    "merge_df['Country'] = merge_df['Country'].replace(\"Côte d'Ivoire\", 'Ivory Coast')\n",
    "merge_df['Country'] = merge_df['Country'].replace('Tanzania', 'United Republic of Tanzania')\n",
    "merge_df['Country'] = merge_df['Country'].replace('North Macedonia', 'Macedonia')\n",
    "merge_df['Country'] = merge_df['Country'].replace('Guinea-Bissau', 'Guinea Bissau')\n",
    "merge_df"
   ]
  },
  {
   "cell_type": "code",
   "execution_count": null,
   "id": "c9520c77",
   "metadata": {},
   "outputs": [],
   "source": [
    "fig = px.choropleth(\n",
    "    merge_df,\n",
    "    geojson=country_map,\n",
    "    locations='Country', \n",
    "    featureidkey=\"properties.ADMIN\",\n",
    "    color='Life Ladder',  # Change to Life Ladder\n",
    "    hover_name='Country',  \n",
    "    color_continuous_scale=px.colors.sequential.Plasma,\n",
    "    projection=\"natural earth\",  \n",
    "    title=\"World Life Ladder Map\",\n",
    "    width=1000,\n",
    "    height=800 \n",
    ")\n",
    "\n",
    "fig.update_layout(\n",
    "    geo=dict(\n",
    "        showcoastlines=True, coastlinecolor=\"Black\",\n",
    "        showland=True, landcolor=\"white\",\n",
    "        showocean=True, oceancolor=\"LightBlue\",\n",
    "        showlakes=True, lakecolor=\"LightBlue\",\n",
    "        showrivers=False, rivercolor=\"Blue\"\n",
    "    ),\n",
    "    coloraxis_colorbar=dict(\n",
    "        title=\"Life Ladder\",\n",
    "        tickvals=[merge_df['Life Ladder'].min(), merge_df['Life Ladder'].max()],\n",
    "        ticktext=[f\"{merge_df['Life Ladder'].min():.2f}\", f\"{merge_df['Life Ladder'].max():.2f}\"],\n",
    "        lenmode=\"fraction\",\n",
    "        len=0.8,\n",
    "        xanchor=\"right\",\n",
    "        x=1.35  \n",
    "    )\n",
    ")\n",
    "\n",
    "plt.savefig('world_life_ladder.png' , dpi = 400, bbox_inches='tight')\n",
    "\n",
    "\n",
    "fig.show()"
   ]
  },
  {
   "cell_type": "markdown",
   "id": "f7f18beb",
   "metadata": {},
   "source": [
    "# ANOVA TABLE AND HISTOGRAM PART 2"
   ]
  },
  {
   "cell_type": "code",
   "execution_count": null,
   "id": "5ceefe3c",
   "metadata": {},
   "outputs": [],
   "source": [
    "whr_original.dropna()\n",
    "whr_filtered = whr_original.iloc[:,[0,1,2]]\n",
    "whr_filtered = whr_filtered.rename(columns={\"ï»¿Country name\" : \"Country\"})\n",
    "whr_filtered\n"
   ]
  },
  {
   "cell_type": "code",
   "execution_count": null,
   "id": "a79c778d",
   "metadata": {},
   "outputs": [],
   "source": [
    "popdata_23.dropna()\n",
    "pop_filtered = popdata_23.iloc[:,[1,2]].copy()\n",
    "pop_filtered[\"Population\"] = pop_filtered[\"Population\"].str.replace(\",\",\"\").astype(int)\n",
    "pop_filtered"
   ]
  },
  {
   "cell_type": "code",
   "execution_count": null,
   "id": "ff8cafc4",
   "metadata": {
    "scrolled": true
   },
   "outputs": [],
   "source": [
    "merge_df = pd.merge(whr_filtered, pop_filtered, how='right', on=\"Country\")\n",
    "merge_df = merge_df.dropna()\n",
    "merge_df_23 = merge_df.query('year == 2023').reset_index(drop=True)\n",
    "merge_df_23\n"
   ]
  },
  {
   "cell_type": "code",
   "execution_count": null,
   "id": "2abcf105-98de-4e38-b5cc-0f1c4679673e",
   "metadata": {},
   "outputs": [],
   "source": [
    "pop_min = 300000\n",
    "pop_max = 1500000000\n",
    "\n",
    "#label the bins\n",
    "log_bins = np.logspace(np.log10(pop_min), np.log10(pop_max), num=20)\n",
    "\n",
    "# Function to round down to the nearest million or billion and format the number\n",
    "def format_number(num):\n",
    "    num = int(np.floor(num))\n",
    "    if num >= 1_000_000_000:  # Billions\n",
    "        return f\"{num / 1_000_000_000:.1f}B\"\n",
    "    elif num >= 1_000_000:    # Millions\n",
    "        return f\"{num / 1_000_000:.1f}M\"\n",
    "    elif num >= 100_000:    # 100 Thousands\n",
    "        return f\"{num / 1_000_000:.1f}M\"\n",
    "    else:  # Smaller numbers (though in this context, everything should be at least in millions)\n",
    "        return f\"{num:,}\"\n",
    "\n",
    "# Create labels with rounded and formatted numbers\n",
    "bin_labels = [f\"{format_number(log_bins[i])} - {format_number(log_bins[i+1])}\" for i in range(len(log_bins)-1)]\n",
    "\n",
    "# Output the labels\n",
    "bin_labels"
   ]
  },
  {
   "cell_type": "code",
   "execution_count": null,
   "id": "e4873ae5-3a42-41b2-a02e-6334f006771a",
   "metadata": {},
   "outputs": [],
   "source": [
    "merge_df_23[\"Population Category\"] = pd.cut(merge_df_23[\"Population\"],log_bins, labels= bin_labels)\n",
    "merge_df_23"
   ]
  },
  {
   "cell_type": "code",
   "execution_count": null,
   "id": "dee5649c-7770-49cf-8d26-30b802ed600a",
   "metadata": {},
   "outputs": [],
   "source": [
    "df_groups =merge_df_23.groupby('Population Category',observed=True)['Life Ladder'].mean()\n",
    "colors = ['blue', 'green', 'red', 'purple', 'orange', 'yellow', 'pink', 'brown', 'gray', 'cyan']\n",
    "df_groups.plot(kind=\"barh\", figsize = (10,10), color = colors)\n",
    "plt.xlabel(\"Population Category\")\n",
    "plt.title('Population Score of the Countries')\n",
    "plt.savefig(\"pop_score_by_country.png\")\n",
    "plt.show()"
   ]
  }
 ],
 "metadata": {
  "kernelspec": {
   "display_name": "Python 3 (ipykernel)",
   "language": "python",
   "name": "python3"
  },
  "language_info": {
   "codemirror_mode": {
    "name": "ipython",
    "version": 3
   },
   "file_extension": ".py",
   "mimetype": "text/x-python",
   "name": "python",
   "nbconvert_exporter": "python",
   "pygments_lexer": "ipython3",
   "version": "3.10.14"
  }
 },
 "nbformat": 4,
 "nbformat_minor": 5
}
